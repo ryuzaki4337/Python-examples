{
 "cells": [
  {
   "cell_type": "code",
   "execution_count": 27,
   "metadata": {},
   "outputs": [],
   "source": [
    "import os\n",
    "file = open(\"demofile.txt\",'w') #Used for writing into the file and creating a empty file\n",
    "file.close()"
   ]
  },
  {
   "cell_type": "code",
   "execution_count": 30,
   "metadata": {},
   "outputs": [
    {
     "name": "stdout",
     "output_type": "stream",
     "text": [
      "My name is K.Lalithaditya.\n",
      "Hi my roll number is CS17B014.\n",
      "Hello World!\n"
     ]
    }
   ],
   "source": [
    "import os\n",
    "file = open(\"demofile.txt\",'r')\n",
    "print (file.read()) #Used to read all the valid characters in the file\n",
    "file.close()"
   ]
  },
  {
   "cell_type": "code",
   "execution_count": 31,
   "metadata": {},
   "outputs": [
    {
     "name": "stdout",
     "output_type": "stream",
     "text": [
      "My na\n"
     ]
    }
   ],
   "source": [
    "import os\n",
    "file = open(\"demofile.txt\",'r')\n",
    "print (file.read(5)) #Used to print the first five characters of the file\n",
    "file.close()"
   ]
  },
  {
   "cell_type": "code",
   "execution_count": 32,
   "metadata": {},
   "outputs": [
    {
     "name": "stdout",
     "output_type": "stream",
     "text": [
      "My name is K.Lalithaditya.\n",
      "\n"
     ]
    }
   ],
   "source": [
    "import os\n",
    "file = open(\"demofile.txt\",'r')\n",
    "print (file.readline()) #Used to read the first line\n",
    "file.close()"
   ]
  },
  {
   "cell_type": "code",
   "execution_count": 33,
   "metadata": {},
   "outputs": [
    {
     "name": "stdout",
     "output_type": "stream",
     "text": [
      "['My name is K.Lalithaditya.\\n', 'Hi my roll number is CS17B014.\\n', 'Hello World!']\n"
     ]
    }
   ],
   "source": [
    "import os\n",
    "file = open(\"demofile.txt\",'r')\n",
    "print (file.readlines()) #Used to read all the lines seperately\n",
    "file.close()"
   ]
  },
  {
   "cell_type": "code",
   "execution_count": 36,
   "metadata": {},
   "outputs": [
    {
     "name": "stdout",
     "output_type": "stream",
     "text": [
      "My name is K.Lalithadity\n"
     ]
    }
   ],
   "source": [
    "import os\n",
    "file = open(\"demofile.txt\",'r')\n",
    "print (file.readline(24))  #Used to read that specific line but in this case it is failing idk\n",
    "file.close()"
   ]
  },
  {
   "cell_type": "code",
   "execution_count": 39,
   "metadata": {},
   "outputs": [
    {
     "name": "stdout",
     "output_type": "stream",
     "text": [
      "['Hi my roll number is CS17B014.\\n', 'Hello World!']\n"
     ]
    }
   ],
   "source": [
    "#read the lines using for loop\n",
    "import os\n",
    "file = open(\"demofile.txt\",'r')\n",
    "for line in file:\n",
    "    print (file.readlines())\n",
    "file.close()"
   ]
  }
 ],
 "metadata": {
  "kernelspec": {
   "display_name": "Python 3",
   "language": "python",
   "name": "python3"
  },
  "language_info": {
   "codemirror_mode": {
    "name": "ipython",
    "version": 3
   },
   "file_extension": ".py",
   "mimetype": "text/x-python",
   "name": "python",
   "nbconvert_exporter": "python",
   "pygments_lexer": "ipython3",
   "version": "3.7.3"
  }
 },
 "nbformat": 4,
 "nbformat_minor": 2
}
