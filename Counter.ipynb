{
 "cells": [
  {
   "cell_type": "code",
   "execution_count": 3,
   "metadata": {},
   "outputs": [],
   "source": [
    "from collections import Counter\n",
    "\n",
    "a = [1,2,2,13,23,24,2341313131,1,23,4,3,14,14,32,2,4,3,423]\n",
    "\n",
    "c = Counter(a)"
   ]
  },
  {
   "cell_type": "code",
   "execution_count": 5,
   "metadata": {},
   "outputs": [
    {
     "data": {
      "text/plain": [
       "Counter({1: 2,\n",
       "         2: 3,\n",
       "         13: 1,\n",
       "         23: 2,\n",
       "         24: 1,\n",
       "         2341313131: 1,\n",
       "         4: 2,\n",
       "         3: 2,\n",
       "         14: 2,\n",
       "         32: 1,\n",
       "         423: 1})"
      ]
     },
     "execution_count": 5,
     "metadata": {},
     "output_type": "execute_result"
    }
   ],
   "source": [
    "c"
   ]
  },
  {
   "cell_type": "code",
   "execution_count": 8,
   "metadata": {},
   "outputs": [
    {
     "data": {
      "text/plain": [
       "[1, 1, 2, 2, 2, 13, 23, 23, 24, 2341313131, 4, 4, 3, 3, 14, 14, 32, 423]"
      ]
     },
     "execution_count": 8,
     "metadata": {},
     "output_type": "execute_result"
    }
   ],
   "source": [
    "#Displays the elements in the counter\n",
    "list(c.elements())"
   ]
  },
  {
   "cell_type": "code",
   "execution_count": 10,
   "metadata": {},
   "outputs": [
    {
     "data": {
      "text/plain": [
       "[(2, 3),\n",
       " (1, 2),\n",
       " (23, 2),\n",
       " (4, 2),\n",
       " (3, 2),\n",
       " (14, 2),\n",
       " (13, 1),\n",
       " (24, 1),\n",
       " (2341313131, 1),\n",
       " (32, 1),\n",
       " (423, 1)]"
      ]
     },
     "execution_count": 10,
     "metadata": {},
     "output_type": "execute_result"
    }
   ],
   "source": [
    "#Most common\n",
    "(c.most_common())"
   ]
  },
  {
   "cell_type": "code",
   "execution_count": 12,
   "metadata": {},
   "outputs": [
    {
     "data": {
      "text/plain": [
       "Counter({1: 2,\n",
       "         2: 1,\n",
       "         13: 1,\n",
       "         23: -2,\n",
       "         24: 1,\n",
       "         2341313131: 1,\n",
       "         4: 2,\n",
       "         3: 2,\n",
       "         14: 2,\n",
       "         32: 1,\n",
       "         423: 1})"
      ]
     },
     "execution_count": 12,
     "metadata": {},
     "output_type": "execute_result"
    }
   ],
   "source": [
    "#Subtracts the elements from the counter\n",
    "\n",
    "sub = {2:1,23:2}\n",
    "c.subtract(sub)\n",
    "c.most_common()"
   ]
  }
 ],
 "metadata": {
  "kernelspec": {
   "display_name": "Python 3",
   "language": "python",
   "name": "python3"
  },
  "language_info": {
   "codemirror_mode": {
    "name": "ipython",
    "version": 3
   },
   "file_extension": ".py",
   "mimetype": "text/x-python",
   "name": "python",
   "nbconvert_exporter": "python",
   "pygments_lexer": "ipython3",
   "version": "3.7.3"
  }
 },
 "nbformat": 4,
 "nbformat_minor": 2
}
