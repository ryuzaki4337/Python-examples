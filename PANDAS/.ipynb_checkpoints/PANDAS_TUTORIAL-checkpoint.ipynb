{
 "cells": [
  {
   "cell_type": "code",
   "execution_count": 1,
   "metadata": {},
   "outputs": [],
   "source": [
    "import pandas as pd\n",
    "import numpy as np"
   ]
  },
  {
   "cell_type": "code",
   "execution_count": 2,
   "metadata": {},
   "outputs": [],
   "source": [
    "# Create a series\n",
    "s = pd.Series([1,2,3,4,5,6,7,np.nan,9,10])"
   ]
  },
  {
   "cell_type": "code",
   "execution_count": 5,
   "metadata": {},
   "outputs": [
    {
     "data": {
      "text/plain": [
       "0     1.0\n",
       "1     2.0\n",
       "2     3.0\n",
       "3     4.0\n",
       "4     5.0\n",
       "5     6.0\n",
       "6     7.0\n",
       "7     NaN\n",
       "8     9.0\n",
       "9    10.0\n",
       "dtype: float64"
      ]
     },
     "execution_count": 5,
     "metadata": {},
     "output_type": "execute_result"
    }
   ],
   "source": [
    "s"
   ]
  },
  {
   "cell_type": "code",
   "execution_count": 6,
   "metadata": {},
   "outputs": [],
   "source": [
    "d = pd.date_range('20200301',periods=10)"
   ]
  },
  {
   "cell_type": "code",
   "execution_count": 7,
   "metadata": {},
   "outputs": [
    {
     "data": {
      "text/plain": [
       "DatetimeIndex(['2020-03-01', '2020-03-02', '2020-03-03', '2020-03-04',\n",
       "               '2020-03-05', '2020-03-06', '2020-03-07', '2020-03-08',\n",
       "               '2020-03-09', '2020-03-10'],\n",
       "              dtype='datetime64[ns]', freq='D')"
      ]
     },
     "execution_count": 7,
     "metadata": {},
     "output_type": "execute_result"
    }
   ],
   "source": [
    "d"
   ]
  },
  {
   "cell_type": "code",
   "execution_count": 21,
   "metadata": {},
   "outputs": [],
   "source": [
    "# Create a dataframe\n",
    "df1 = pd.DataFrame(np.random.randn(10,4),index=d,columns = ['A','B','C','D'])"
   ]
  },
  {
   "cell_type": "code",
   "execution_count": 22,
   "metadata": {},
   "outputs": [
    {
     "data": {
      "text/html": [
       "<div>\n",
       "<style scoped>\n",
       "    .dataframe tbody tr th:only-of-type {\n",
       "        vertical-align: middle;\n",
       "    }\n",
       "\n",
       "    .dataframe tbody tr th {\n",
       "        vertical-align: top;\n",
       "    }\n",
       "\n",
       "    .dataframe thead th {\n",
       "        text-align: right;\n",
       "    }\n",
       "</style>\n",
       "<table border=\"1\" class=\"dataframe\">\n",
       "  <thead>\n",
       "    <tr style=\"text-align: right;\">\n",
       "      <th></th>\n",
       "      <th>A</th>\n",
       "      <th>B</th>\n",
       "      <th>C</th>\n",
       "      <th>D</th>\n",
       "    </tr>\n",
       "  </thead>\n",
       "  <tbody>\n",
       "    <tr>\n",
       "      <td>2020-03-01</td>\n",
       "      <td>-0.625416</td>\n",
       "      <td>-0.633803</td>\n",
       "      <td>-1.976715</td>\n",
       "      <td>-1.375318</td>\n",
       "    </tr>\n",
       "    <tr>\n",
       "      <td>2020-03-02</td>\n",
       "      <td>0.882473</td>\n",
       "      <td>1.724423</td>\n",
       "      <td>0.186722</td>\n",
       "      <td>-0.641872</td>\n",
       "    </tr>\n",
       "    <tr>\n",
       "      <td>2020-03-03</td>\n",
       "      <td>2.583529</td>\n",
       "      <td>-0.274242</td>\n",
       "      <td>-0.575889</td>\n",
       "      <td>-0.035593</td>\n",
       "    </tr>\n",
       "    <tr>\n",
       "      <td>2020-03-04</td>\n",
       "      <td>0.656508</td>\n",
       "      <td>0.893897</td>\n",
       "      <td>-2.501086</td>\n",
       "      <td>-0.765147</td>\n",
       "    </tr>\n",
       "    <tr>\n",
       "      <td>2020-03-05</td>\n",
       "      <td>-0.529995</td>\n",
       "      <td>-0.475489</td>\n",
       "      <td>-0.472758</td>\n",
       "      <td>0.967229</td>\n",
       "    </tr>\n",
       "    <tr>\n",
       "      <td>2020-03-06</td>\n",
       "      <td>-0.373437</td>\n",
       "      <td>0.782992</td>\n",
       "      <td>0.478386</td>\n",
       "      <td>0.602036</td>\n",
       "    </tr>\n",
       "    <tr>\n",
       "      <td>2020-03-07</td>\n",
       "      <td>1.881235</td>\n",
       "      <td>-0.336688</td>\n",
       "      <td>-0.090282</td>\n",
       "      <td>-0.152162</td>\n",
       "    </tr>\n",
       "    <tr>\n",
       "      <td>2020-03-08</td>\n",
       "      <td>-0.399472</td>\n",
       "      <td>0.716777</td>\n",
       "      <td>-0.834876</td>\n",
       "      <td>-0.531974</td>\n",
       "    </tr>\n",
       "    <tr>\n",
       "      <td>2020-03-09</td>\n",
       "      <td>-0.148058</td>\n",
       "      <td>0.846852</td>\n",
       "      <td>-0.198033</td>\n",
       "      <td>0.218146</td>\n",
       "    </tr>\n",
       "    <tr>\n",
       "      <td>2020-03-10</td>\n",
       "      <td>0.291940</td>\n",
       "      <td>-0.114620</td>\n",
       "      <td>0.023436</td>\n",
       "      <td>1.518044</td>\n",
       "    </tr>\n",
       "  </tbody>\n",
       "</table>\n",
       "</div>"
      ],
      "text/plain": [
       "                   A         B         C         D\n",
       "2020-03-01 -0.625416 -0.633803 -1.976715 -1.375318\n",
       "2020-03-02  0.882473  1.724423  0.186722 -0.641872\n",
       "2020-03-03  2.583529 -0.274242 -0.575889 -0.035593\n",
       "2020-03-04  0.656508  0.893897 -2.501086 -0.765147\n",
       "2020-03-05 -0.529995 -0.475489 -0.472758  0.967229\n",
       "2020-03-06 -0.373437  0.782992  0.478386  0.602036\n",
       "2020-03-07  1.881235 -0.336688 -0.090282 -0.152162\n",
       "2020-03-08 -0.399472  0.716777 -0.834876 -0.531974\n",
       "2020-03-09 -0.148058  0.846852 -0.198033  0.218146\n",
       "2020-03-10  0.291940 -0.114620  0.023436  1.518044"
      ]
     },
     "execution_count": 22,
     "metadata": {},
     "output_type": "execute_result"
    }
   ],
   "source": [
    "df1"
   ]
  },
  {
   "cell_type": "code",
   "execution_count": 23,
   "metadata": {},
   "outputs": [],
   "source": [
    "df = pd.DataFrame({'A':[1,2,3,4],\n",
    "                   'B':pd.Timestamp('20200301'),\n",
    "                  'C': pd.Series(1,index = list(range(4)),dtype='float32'),\n",
    "                  'D':np.array([5]*4,dtype='int32'),\n",
    "                   'E':pd.Categorical([0,1,'True','False']),\n",
    "                   'F':'Lalith'})"
   ]
  },
  {
   "cell_type": "code",
   "execution_count": 24,
   "metadata": {},
   "outputs": [
    {
     "data": {
      "text/html": [
       "<div>\n",
       "<style scoped>\n",
       "    .dataframe tbody tr th:only-of-type {\n",
       "        vertical-align: middle;\n",
       "    }\n",
       "\n",
       "    .dataframe tbody tr th {\n",
       "        vertical-align: top;\n",
       "    }\n",
       "\n",
       "    .dataframe thead th {\n",
       "        text-align: right;\n",
       "    }\n",
       "</style>\n",
       "<table border=\"1\" class=\"dataframe\">\n",
       "  <thead>\n",
       "    <tr style=\"text-align: right;\">\n",
       "      <th></th>\n",
       "      <th>A</th>\n",
       "      <th>B</th>\n",
       "      <th>C</th>\n",
       "      <th>D</th>\n",
       "      <th>E</th>\n",
       "      <th>F</th>\n",
       "    </tr>\n",
       "  </thead>\n",
       "  <tbody>\n",
       "    <tr>\n",
       "      <td>0</td>\n",
       "      <td>1</td>\n",
       "      <td>2020-03-01</td>\n",
       "      <td>1.0</td>\n",
       "      <td>5</td>\n",
       "      <td>0</td>\n",
       "      <td>Lalith</td>\n",
       "    </tr>\n",
       "    <tr>\n",
       "      <td>1</td>\n",
       "      <td>2</td>\n",
       "      <td>2020-03-01</td>\n",
       "      <td>1.0</td>\n",
       "      <td>5</td>\n",
       "      <td>1</td>\n",
       "      <td>Lalith</td>\n",
       "    </tr>\n",
       "    <tr>\n",
       "      <td>2</td>\n",
       "      <td>3</td>\n",
       "      <td>2020-03-01</td>\n",
       "      <td>1.0</td>\n",
       "      <td>5</td>\n",
       "      <td>True</td>\n",
       "      <td>Lalith</td>\n",
       "    </tr>\n",
       "    <tr>\n",
       "      <td>3</td>\n",
       "      <td>4</td>\n",
       "      <td>2020-03-01</td>\n",
       "      <td>1.0</td>\n",
       "      <td>5</td>\n",
       "      <td>False</td>\n",
       "      <td>Lalith</td>\n",
       "    </tr>\n",
       "  </tbody>\n",
       "</table>\n",
       "</div>"
      ],
      "text/plain": [
       "   A          B    C  D      E       F\n",
       "0  1 2020-03-01  1.0  5      0  Lalith\n",
       "1  2 2020-03-01  1.0  5      1  Lalith\n",
       "2  3 2020-03-01  1.0  5   True  Lalith\n",
       "3  4 2020-03-01  1.0  5  False  Lalith"
      ]
     },
     "execution_count": 24,
     "metadata": {},
     "output_type": "execute_result"
    }
   ],
   "source": [
    "df"
   ]
  },
  {
   "cell_type": "code",
   "execution_count": 27,
   "metadata": {},
   "outputs": [
    {
     "data": {
      "text/plain": [
       "A             int64\n",
       "B    datetime64[ns]\n",
       "C           float32\n",
       "D             int32\n",
       "E          category\n",
       "F            object\n",
       "dtype: object"
      ]
     },
     "execution_count": 27,
     "metadata": {},
     "output_type": "execute_result"
    }
   ],
   "source": [
    "df.dtypes"
   ]
  },
  {
   "cell_type": "code",
   "execution_count": 28,
   "metadata": {},
   "outputs": [
    {
     "data": {
      "text/html": [
       "<div>\n",
       "<style scoped>\n",
       "    .dataframe tbody tr th:only-of-type {\n",
       "        vertical-align: middle;\n",
       "    }\n",
       "\n",
       "    .dataframe tbody tr th {\n",
       "        vertical-align: top;\n",
       "    }\n",
       "\n",
       "    .dataframe thead th {\n",
       "        text-align: right;\n",
       "    }\n",
       "</style>\n",
       "<table border=\"1\" class=\"dataframe\">\n",
       "  <thead>\n",
       "    <tr style=\"text-align: right;\">\n",
       "      <th></th>\n",
       "      <th>A</th>\n",
       "      <th>B</th>\n",
       "      <th>C</th>\n",
       "      <th>D</th>\n",
       "    </tr>\n",
       "  </thead>\n",
       "  <tbody>\n",
       "    <tr>\n",
       "      <td>2020-03-01</td>\n",
       "      <td>-0.625416</td>\n",
       "      <td>-0.633803</td>\n",
       "      <td>-1.976715</td>\n",
       "      <td>-1.375318</td>\n",
       "    </tr>\n",
       "    <tr>\n",
       "      <td>2020-03-02</td>\n",
       "      <td>0.882473</td>\n",
       "      <td>1.724423</td>\n",
       "      <td>0.186722</td>\n",
       "      <td>-0.641872</td>\n",
       "    </tr>\n",
       "    <tr>\n",
       "      <td>2020-03-03</td>\n",
       "      <td>2.583529</td>\n",
       "      <td>-0.274242</td>\n",
       "      <td>-0.575889</td>\n",
       "      <td>-0.035593</td>\n",
       "    </tr>\n",
       "    <tr>\n",
       "      <td>2020-03-04</td>\n",
       "      <td>0.656508</td>\n",
       "      <td>0.893897</td>\n",
       "      <td>-2.501086</td>\n",
       "      <td>-0.765147</td>\n",
       "    </tr>\n",
       "    <tr>\n",
       "      <td>2020-03-05</td>\n",
       "      <td>-0.529995</td>\n",
       "      <td>-0.475489</td>\n",
       "      <td>-0.472758</td>\n",
       "      <td>0.967229</td>\n",
       "    </tr>\n",
       "  </tbody>\n",
       "</table>\n",
       "</div>"
      ],
      "text/plain": [
       "                   A         B         C         D\n",
       "2020-03-01 -0.625416 -0.633803 -1.976715 -1.375318\n",
       "2020-03-02  0.882473  1.724423  0.186722 -0.641872\n",
       "2020-03-03  2.583529 -0.274242 -0.575889 -0.035593\n",
       "2020-03-04  0.656508  0.893897 -2.501086 -0.765147\n",
       "2020-03-05 -0.529995 -0.475489 -0.472758  0.967229"
      ]
     },
     "execution_count": 28,
     "metadata": {},
     "output_type": "execute_result"
    }
   ],
   "source": [
    "df1.head()"
   ]
  },
  {
   "cell_type": "code",
   "execution_count": 29,
   "metadata": {},
   "outputs": [
    {
     "data": {
      "text/html": [
       "<div>\n",
       "<style scoped>\n",
       "    .dataframe tbody tr th:only-of-type {\n",
       "        vertical-align: middle;\n",
       "    }\n",
       "\n",
       "    .dataframe tbody tr th {\n",
       "        vertical-align: top;\n",
       "    }\n",
       "\n",
       "    .dataframe thead th {\n",
       "        text-align: right;\n",
       "    }\n",
       "</style>\n",
       "<table border=\"1\" class=\"dataframe\">\n",
       "  <thead>\n",
       "    <tr style=\"text-align: right;\">\n",
       "      <th></th>\n",
       "      <th>A</th>\n",
       "      <th>B</th>\n",
       "      <th>C</th>\n",
       "      <th>D</th>\n",
       "    </tr>\n",
       "  </thead>\n",
       "  <tbody>\n",
       "    <tr>\n",
       "      <td>2020-03-06</td>\n",
       "      <td>-0.373437</td>\n",
       "      <td>0.782992</td>\n",
       "      <td>0.478386</td>\n",
       "      <td>0.602036</td>\n",
       "    </tr>\n",
       "    <tr>\n",
       "      <td>2020-03-07</td>\n",
       "      <td>1.881235</td>\n",
       "      <td>-0.336688</td>\n",
       "      <td>-0.090282</td>\n",
       "      <td>-0.152162</td>\n",
       "    </tr>\n",
       "    <tr>\n",
       "      <td>2020-03-08</td>\n",
       "      <td>-0.399472</td>\n",
       "      <td>0.716777</td>\n",
       "      <td>-0.834876</td>\n",
       "      <td>-0.531974</td>\n",
       "    </tr>\n",
       "    <tr>\n",
       "      <td>2020-03-09</td>\n",
       "      <td>-0.148058</td>\n",
       "      <td>0.846852</td>\n",
       "      <td>-0.198033</td>\n",
       "      <td>0.218146</td>\n",
       "    </tr>\n",
       "    <tr>\n",
       "      <td>2020-03-10</td>\n",
       "      <td>0.291940</td>\n",
       "      <td>-0.114620</td>\n",
       "      <td>0.023436</td>\n",
       "      <td>1.518044</td>\n",
       "    </tr>\n",
       "  </tbody>\n",
       "</table>\n",
       "</div>"
      ],
      "text/plain": [
       "                   A         B         C         D\n",
       "2020-03-06 -0.373437  0.782992  0.478386  0.602036\n",
       "2020-03-07  1.881235 -0.336688 -0.090282 -0.152162\n",
       "2020-03-08 -0.399472  0.716777 -0.834876 -0.531974\n",
       "2020-03-09 -0.148058  0.846852 -0.198033  0.218146\n",
       "2020-03-10  0.291940 -0.114620  0.023436  1.518044"
      ]
     },
     "execution_count": 29,
     "metadata": {},
     "output_type": "execute_result"
    }
   ],
   "source": [
    "df1.tail()"
   ]
  },
  {
   "cell_type": "code",
   "execution_count": 31,
   "metadata": {},
   "outputs": [
    {
     "data": {
      "text/plain": [
       "Int64Index([0, 1, 2, 3], dtype='int64')"
      ]
     },
     "execution_count": 31,
     "metadata": {},
     "output_type": "execute_result"
    }
   ],
   "source": [
    "df.index"
   ]
  },
  {
   "cell_type": "code",
   "execution_count": 33,
   "metadata": {},
   "outputs": [
    {
     "data": {
      "text/plain": [
       "DatetimeIndex(['2020-03-01', '2020-03-02', '2020-03-03', '2020-03-04',\n",
       "               '2020-03-05', '2020-03-06', '2020-03-07', '2020-03-08',\n",
       "               '2020-03-09', '2020-03-10'],\n",
       "              dtype='datetime64[ns]', freq='D')"
      ]
     },
     "execution_count": 33,
     "metadata": {},
     "output_type": "execute_result"
    }
   ],
   "source": [
    "df1.index"
   ]
  },
  {
   "cell_type": "code",
   "execution_count": 34,
   "metadata": {},
   "outputs": [
    {
     "data": {
      "text/plain": [
       "Index(['A', 'B', 'C', 'D'], dtype='object')"
      ]
     },
     "execution_count": 34,
     "metadata": {},
     "output_type": "execute_result"
    }
   ],
   "source": [
    "df1.columns"
   ]
  },
  {
   "cell_type": "code",
   "execution_count": 36,
   "metadata": {},
   "outputs": [
    {
     "data": {
      "text/plain": [
       "Index(['A', 'B', 'C', 'D', 'E', 'F'], dtype='object')"
      ]
     },
     "execution_count": 36,
     "metadata": {},
     "output_type": "execute_result"
    }
   ],
   "source": [
    "df.columns"
   ]
  },
  {
   "cell_type": "code",
   "execution_count": 37,
   "metadata": {},
   "outputs": [
    {
     "data": {
      "text/plain": [
       "array([[1, Timestamp('2020-03-01 00:00:00'), 1.0, 5, 0, 'Lalith'],\n",
       "       [2, Timestamp('2020-03-01 00:00:00'), 1.0, 5, 1, 'Lalith'],\n",
       "       [3, Timestamp('2020-03-01 00:00:00'), 1.0, 5, 'True', 'Lalith'],\n",
       "       [4, Timestamp('2020-03-01 00:00:00'), 1.0, 5, 'False', 'Lalith']],\n",
       "      dtype=object)"
      ]
     },
     "execution_count": 37,
     "metadata": {},
     "output_type": "execute_result"
    }
   ],
   "source": [
    "df.to_numpy()"
   ]
  },
  {
   "cell_type": "code",
   "execution_count": 38,
   "metadata": {},
   "outputs": [
    {
     "data": {
      "text/plain": [
       "array([[-0.62541604, -0.63380264, -1.97671516, -1.37531803],\n",
       "       [ 0.8824728 ,  1.72442254,  0.18672173, -0.64187218],\n",
       "       [ 2.5835291 , -0.27424211, -0.57588907, -0.03559329],\n",
       "       [ 0.65650796,  0.89389702, -2.5010862 , -0.76514735],\n",
       "       [-0.52999452, -0.4754894 , -0.47275811,  0.96722884],\n",
       "       [-0.37343666,  0.7829924 ,  0.47838605,  0.60203588],\n",
       "       [ 1.88123479, -0.33668781, -0.09028207, -0.15216174],\n",
       "       [-0.39947159,  0.71677676, -0.83487599, -0.53197397],\n",
       "       [-0.14805759,  0.8468516 , -0.1980329 ,  0.218146  ],\n",
       "       [ 0.29194039, -0.11461994,  0.02343604,  1.51804446]])"
      ]
     },
     "execution_count": 38,
     "metadata": {},
     "output_type": "execute_result"
    }
   ],
   "source": [
    "df1.to_numpy()"
   ]
  },
  {
   "cell_type": "code",
   "execution_count": 39,
   "metadata": {},
   "outputs": [
    {
     "data": {
      "text/html": [
       "<div>\n",
       "<style scoped>\n",
       "    .dataframe tbody tr th:only-of-type {\n",
       "        vertical-align: middle;\n",
       "    }\n",
       "\n",
       "    .dataframe tbody tr th {\n",
       "        vertical-align: top;\n",
       "    }\n",
       "\n",
       "    .dataframe thead th {\n",
       "        text-align: right;\n",
       "    }\n",
       "</style>\n",
       "<table border=\"1\" class=\"dataframe\">\n",
       "  <thead>\n",
       "    <tr style=\"text-align: right;\">\n",
       "      <th></th>\n",
       "      <th>A</th>\n",
       "      <th>B</th>\n",
       "      <th>C</th>\n",
       "      <th>D</th>\n",
       "    </tr>\n",
       "  </thead>\n",
       "  <tbody>\n",
       "    <tr>\n",
       "      <td>count</td>\n",
       "      <td>10.000000</td>\n",
       "      <td>10.000000</td>\n",
       "      <td>10.000000</td>\n",
       "      <td>10.000000</td>\n",
       "    </tr>\n",
       "    <tr>\n",
       "      <td>mean</td>\n",
       "      <td>0.421931</td>\n",
       "      <td>0.313010</td>\n",
       "      <td>-0.596110</td>\n",
       "      <td>-0.019661</td>\n",
       "    </tr>\n",
       "    <tr>\n",
       "      <td>std</td>\n",
       "      <td>1.091451</td>\n",
       "      <td>0.779347</td>\n",
       "      <td>0.952959</td>\n",
       "      <td>0.871941</td>\n",
       "    </tr>\n",
       "    <tr>\n",
       "      <td>min</td>\n",
       "      <td>-0.625416</td>\n",
       "      <td>-0.633803</td>\n",
       "      <td>-2.501086</td>\n",
       "      <td>-1.375318</td>\n",
       "    </tr>\n",
       "    <tr>\n",
       "      <td>25%</td>\n",
       "      <td>-0.392963</td>\n",
       "      <td>-0.321076</td>\n",
       "      <td>-0.770129</td>\n",
       "      <td>-0.614398</td>\n",
       "    </tr>\n",
       "    <tr>\n",
       "      <td>50%</td>\n",
       "      <td>0.071941</td>\n",
       "      <td>0.301078</td>\n",
       "      <td>-0.335396</td>\n",
       "      <td>-0.093878</td>\n",
       "    </tr>\n",
       "    <tr>\n",
       "      <td>75%</td>\n",
       "      <td>0.825982</td>\n",
       "      <td>0.830887</td>\n",
       "      <td>-0.004993</td>\n",
       "      <td>0.506063</td>\n",
       "    </tr>\n",
       "    <tr>\n",
       "      <td>max</td>\n",
       "      <td>2.583529</td>\n",
       "      <td>1.724423</td>\n",
       "      <td>0.478386</td>\n",
       "      <td>1.518044</td>\n",
       "    </tr>\n",
       "  </tbody>\n",
       "</table>\n",
       "</div>"
      ],
      "text/plain": [
       "               A          B          C          D\n",
       "count  10.000000  10.000000  10.000000  10.000000\n",
       "mean    0.421931   0.313010  -0.596110  -0.019661\n",
       "std     1.091451   0.779347   0.952959   0.871941\n",
       "min    -0.625416  -0.633803  -2.501086  -1.375318\n",
       "25%    -0.392963  -0.321076  -0.770129  -0.614398\n",
       "50%     0.071941   0.301078  -0.335396  -0.093878\n",
       "75%     0.825982   0.830887  -0.004993   0.506063\n",
       "max     2.583529   1.724423   0.478386   1.518044"
      ]
     },
     "execution_count": 39,
     "metadata": {},
     "output_type": "execute_result"
    }
   ],
   "source": [
    "df1.describe()"
   ]
  },
  {
   "cell_type": "code",
   "execution_count": 40,
   "metadata": {},
   "outputs": [
    {
     "data": {
      "text/html": [
       "<div>\n",
       "<style scoped>\n",
       "    .dataframe tbody tr th:only-of-type {\n",
       "        vertical-align: middle;\n",
       "    }\n",
       "\n",
       "    .dataframe tbody tr th {\n",
       "        vertical-align: top;\n",
       "    }\n",
       "\n",
       "    .dataframe thead th {\n",
       "        text-align: right;\n",
       "    }\n",
       "</style>\n",
       "<table border=\"1\" class=\"dataframe\">\n",
       "  <thead>\n",
       "    <tr style=\"text-align: right;\">\n",
       "      <th></th>\n",
       "      <th>D</th>\n",
       "      <th>C</th>\n",
       "      <th>B</th>\n",
       "      <th>A</th>\n",
       "    </tr>\n",
       "  </thead>\n",
       "  <tbody>\n",
       "    <tr>\n",
       "      <td>2020-03-01</td>\n",
       "      <td>-1.375318</td>\n",
       "      <td>-1.976715</td>\n",
       "      <td>-0.633803</td>\n",
       "      <td>-0.625416</td>\n",
       "    </tr>\n",
       "    <tr>\n",
       "      <td>2020-03-02</td>\n",
       "      <td>-0.641872</td>\n",
       "      <td>0.186722</td>\n",
       "      <td>1.724423</td>\n",
       "      <td>0.882473</td>\n",
       "    </tr>\n",
       "    <tr>\n",
       "      <td>2020-03-03</td>\n",
       "      <td>-0.035593</td>\n",
       "      <td>-0.575889</td>\n",
       "      <td>-0.274242</td>\n",
       "      <td>2.583529</td>\n",
       "    </tr>\n",
       "    <tr>\n",
       "      <td>2020-03-04</td>\n",
       "      <td>-0.765147</td>\n",
       "      <td>-2.501086</td>\n",
       "      <td>0.893897</td>\n",
       "      <td>0.656508</td>\n",
       "    </tr>\n",
       "    <tr>\n",
       "      <td>2020-03-05</td>\n",
       "      <td>0.967229</td>\n",
       "      <td>-0.472758</td>\n",
       "      <td>-0.475489</td>\n",
       "      <td>-0.529995</td>\n",
       "    </tr>\n",
       "    <tr>\n",
       "      <td>2020-03-06</td>\n",
       "      <td>0.602036</td>\n",
       "      <td>0.478386</td>\n",
       "      <td>0.782992</td>\n",
       "      <td>-0.373437</td>\n",
       "    </tr>\n",
       "    <tr>\n",
       "      <td>2020-03-07</td>\n",
       "      <td>-0.152162</td>\n",
       "      <td>-0.090282</td>\n",
       "      <td>-0.336688</td>\n",
       "      <td>1.881235</td>\n",
       "    </tr>\n",
       "    <tr>\n",
       "      <td>2020-03-08</td>\n",
       "      <td>-0.531974</td>\n",
       "      <td>-0.834876</td>\n",
       "      <td>0.716777</td>\n",
       "      <td>-0.399472</td>\n",
       "    </tr>\n",
       "    <tr>\n",
       "      <td>2020-03-09</td>\n",
       "      <td>0.218146</td>\n",
       "      <td>-0.198033</td>\n",
       "      <td>0.846852</td>\n",
       "      <td>-0.148058</td>\n",
       "    </tr>\n",
       "    <tr>\n",
       "      <td>2020-03-10</td>\n",
       "      <td>1.518044</td>\n",
       "      <td>0.023436</td>\n",
       "      <td>-0.114620</td>\n",
       "      <td>0.291940</td>\n",
       "    </tr>\n",
       "  </tbody>\n",
       "</table>\n",
       "</div>"
      ],
      "text/plain": [
       "                   D         C         B         A\n",
       "2020-03-01 -1.375318 -1.976715 -0.633803 -0.625416\n",
       "2020-03-02 -0.641872  0.186722  1.724423  0.882473\n",
       "2020-03-03 -0.035593 -0.575889 -0.274242  2.583529\n",
       "2020-03-04 -0.765147 -2.501086  0.893897  0.656508\n",
       "2020-03-05  0.967229 -0.472758 -0.475489 -0.529995\n",
       "2020-03-06  0.602036  0.478386  0.782992 -0.373437\n",
       "2020-03-07 -0.152162 -0.090282 -0.336688  1.881235\n",
       "2020-03-08 -0.531974 -0.834876  0.716777 -0.399472\n",
       "2020-03-09  0.218146 -0.198033  0.846852 -0.148058\n",
       "2020-03-10  1.518044  0.023436 -0.114620  0.291940"
      ]
     },
     "execution_count": 40,
     "metadata": {},
     "output_type": "execute_result"
    }
   ],
   "source": [
    "df1.sort_index(axis=1,ascending=False)"
   ]
  },
  {
   "cell_type": "code",
   "execution_count": 43,
   "metadata": {},
   "outputs": [
    {
     "data": {
      "text/html": [
       "<div>\n",
       "<style scoped>\n",
       "    .dataframe tbody tr th:only-of-type {\n",
       "        vertical-align: middle;\n",
       "    }\n",
       "\n",
       "    .dataframe tbody tr th {\n",
       "        vertical-align: top;\n",
       "    }\n",
       "\n",
       "    .dataframe thead th {\n",
       "        text-align: right;\n",
       "    }\n",
       "</style>\n",
       "<table border=\"1\" class=\"dataframe\">\n",
       "  <thead>\n",
       "    <tr style=\"text-align: right;\">\n",
       "      <th></th>\n",
       "      <th>A</th>\n",
       "      <th>B</th>\n",
       "      <th>C</th>\n",
       "      <th>D</th>\n",
       "    </tr>\n",
       "  </thead>\n",
       "  <tbody>\n",
       "    <tr>\n",
       "      <td>2020-03-01</td>\n",
       "      <td>-0.625416</td>\n",
       "      <td>-0.633803</td>\n",
       "      <td>-1.976715</td>\n",
       "      <td>-1.375318</td>\n",
       "    </tr>\n",
       "    <tr>\n",
       "      <td>2020-03-05</td>\n",
       "      <td>-0.529995</td>\n",
       "      <td>-0.475489</td>\n",
       "      <td>-0.472758</td>\n",
       "      <td>0.967229</td>\n",
       "    </tr>\n",
       "    <tr>\n",
       "      <td>2020-03-08</td>\n",
       "      <td>-0.399472</td>\n",
       "      <td>0.716777</td>\n",
       "      <td>-0.834876</td>\n",
       "      <td>-0.531974</td>\n",
       "    </tr>\n",
       "    <tr>\n",
       "      <td>2020-03-06</td>\n",
       "      <td>-0.373437</td>\n",
       "      <td>0.782992</td>\n",
       "      <td>0.478386</td>\n",
       "      <td>0.602036</td>\n",
       "    </tr>\n",
       "    <tr>\n",
       "      <td>2020-03-09</td>\n",
       "      <td>-0.148058</td>\n",
       "      <td>0.846852</td>\n",
       "      <td>-0.198033</td>\n",
       "      <td>0.218146</td>\n",
       "    </tr>\n",
       "    <tr>\n",
       "      <td>2020-03-10</td>\n",
       "      <td>0.291940</td>\n",
       "      <td>-0.114620</td>\n",
       "      <td>0.023436</td>\n",
       "      <td>1.518044</td>\n",
       "    </tr>\n",
       "    <tr>\n",
       "      <td>2020-03-04</td>\n",
       "      <td>0.656508</td>\n",
       "      <td>0.893897</td>\n",
       "      <td>-2.501086</td>\n",
       "      <td>-0.765147</td>\n",
       "    </tr>\n",
       "    <tr>\n",
       "      <td>2020-03-02</td>\n",
       "      <td>0.882473</td>\n",
       "      <td>1.724423</td>\n",
       "      <td>0.186722</td>\n",
       "      <td>-0.641872</td>\n",
       "    </tr>\n",
       "    <tr>\n",
       "      <td>2020-03-07</td>\n",
       "      <td>1.881235</td>\n",
       "      <td>-0.336688</td>\n",
       "      <td>-0.090282</td>\n",
       "      <td>-0.152162</td>\n",
       "    </tr>\n",
       "    <tr>\n",
       "      <td>2020-03-03</td>\n",
       "      <td>2.583529</td>\n",
       "      <td>-0.274242</td>\n",
       "      <td>-0.575889</td>\n",
       "      <td>-0.035593</td>\n",
       "    </tr>\n",
       "  </tbody>\n",
       "</table>\n",
       "</div>"
      ],
      "text/plain": [
       "                   A         B         C         D\n",
       "2020-03-01 -0.625416 -0.633803 -1.976715 -1.375318\n",
       "2020-03-05 -0.529995 -0.475489 -0.472758  0.967229\n",
       "2020-03-08 -0.399472  0.716777 -0.834876 -0.531974\n",
       "2020-03-06 -0.373437  0.782992  0.478386  0.602036\n",
       "2020-03-09 -0.148058  0.846852 -0.198033  0.218146\n",
       "2020-03-10  0.291940 -0.114620  0.023436  1.518044\n",
       "2020-03-04  0.656508  0.893897 -2.501086 -0.765147\n",
       "2020-03-02  0.882473  1.724423  0.186722 -0.641872\n",
       "2020-03-07  1.881235 -0.336688 -0.090282 -0.152162\n",
       "2020-03-03  2.583529 -0.274242 -0.575889 -0.035593"
      ]
     },
     "execution_count": 43,
     "metadata": {},
     "output_type": "execute_result"
    }
   ],
   "source": [
    "df1.sort_values(by=['A','C'])"
   ]
  },
  {
   "cell_type": "code",
   "execution_count": 45,
   "metadata": {},
   "outputs": [
    {
     "data": {
      "text/plain": [
       "2020-03-01   -1.976715\n",
       "2020-03-02    0.186722\n",
       "2020-03-03   -0.575889\n",
       "2020-03-04   -2.501086\n",
       "2020-03-05   -0.472758\n",
       "2020-03-06    0.478386\n",
       "2020-03-07   -0.090282\n",
       "2020-03-08   -0.834876\n",
       "2020-03-09   -0.198033\n",
       "2020-03-10    0.023436\n",
       "Freq: D, Name: C, dtype: float64"
      ]
     },
     "execution_count": 45,
     "metadata": {},
     "output_type": "execute_result"
    }
   ],
   "source": [
    "df1['C']"
   ]
  },
  {
   "cell_type": "code",
   "execution_count": 46,
   "metadata": {},
   "outputs": [
    {
     "data": {
      "text/html": [
       "<div>\n",
       "<style scoped>\n",
       "    .dataframe tbody tr th:only-of-type {\n",
       "        vertical-align: middle;\n",
       "    }\n",
       "\n",
       "    .dataframe tbody tr th {\n",
       "        vertical-align: top;\n",
       "    }\n",
       "\n",
       "    .dataframe thead th {\n",
       "        text-align: right;\n",
       "    }\n",
       "</style>\n",
       "<table border=\"1\" class=\"dataframe\">\n",
       "  <thead>\n",
       "    <tr style=\"text-align: right;\">\n",
       "      <th></th>\n",
       "      <th>A</th>\n",
       "      <th>B</th>\n",
       "      <th>C</th>\n",
       "      <th>D</th>\n",
       "    </tr>\n",
       "  </thead>\n",
       "  <tbody>\n",
       "    <tr>\n",
       "      <td>2020-03-01</td>\n",
       "      <td>-0.625416</td>\n",
       "      <td>-0.633803</td>\n",
       "      <td>-1.976715</td>\n",
       "      <td>-1.375318</td>\n",
       "    </tr>\n",
       "    <tr>\n",
       "      <td>2020-03-02</td>\n",
       "      <td>0.882473</td>\n",
       "      <td>1.724423</td>\n",
       "      <td>0.186722</td>\n",
       "      <td>-0.641872</td>\n",
       "    </tr>\n",
       "    <tr>\n",
       "      <td>2020-03-03</td>\n",
       "      <td>2.583529</td>\n",
       "      <td>-0.274242</td>\n",
       "      <td>-0.575889</td>\n",
       "      <td>-0.035593</td>\n",
       "    </tr>\n",
       "  </tbody>\n",
       "</table>\n",
       "</div>"
      ],
      "text/plain": [
       "                   A         B         C         D\n",
       "2020-03-01 -0.625416 -0.633803 -1.976715 -1.375318\n",
       "2020-03-02  0.882473  1.724423  0.186722 -0.641872\n",
       "2020-03-03  2.583529 -0.274242 -0.575889 -0.035593"
      ]
     },
     "execution_count": 46,
     "metadata": {},
     "output_type": "execute_result"
    }
   ],
   "source": [
    "df1[0:3]"
   ]
  },
  {
   "cell_type": "code",
   "execution_count": 49,
   "metadata": {},
   "outputs": [
    {
     "data": {
      "text/plain": [
       "A   -0.625416\n",
       "B   -0.633803\n",
       "C   -1.976715\n",
       "D   -1.375318\n",
       "Name: 2020-03-01 00:00:00, dtype: float64"
      ]
     },
     "execution_count": 49,
     "metadata": {},
     "output_type": "execute_result"
    }
   ],
   "source": [
    "df1.loc[d[0]]"
   ]
  },
  {
   "cell_type": "code",
   "execution_count": 50,
   "metadata": {},
   "outputs": [
    {
     "data": {
      "text/html": [
       "<div>\n",
       "<style scoped>\n",
       "    .dataframe tbody tr th:only-of-type {\n",
       "        vertical-align: middle;\n",
       "    }\n",
       "\n",
       "    .dataframe tbody tr th {\n",
       "        vertical-align: top;\n",
       "    }\n",
       "\n",
       "    .dataframe thead th {\n",
       "        text-align: right;\n",
       "    }\n",
       "</style>\n",
       "<table border=\"1\" class=\"dataframe\">\n",
       "  <thead>\n",
       "    <tr style=\"text-align: right;\">\n",
       "      <th></th>\n",
       "      <th>A</th>\n",
       "      <th>B</th>\n",
       "      <th>C</th>\n",
       "      <th>D</th>\n",
       "    </tr>\n",
       "  </thead>\n",
       "  <tbody>\n",
       "    <tr>\n",
       "      <td>2020-03-01</td>\n",
       "      <td>-0.625416</td>\n",
       "      <td>-0.633803</td>\n",
       "      <td>-1.976715</td>\n",
       "      <td>-1.375318</td>\n",
       "    </tr>\n",
       "    <tr>\n",
       "      <td>2020-03-02</td>\n",
       "      <td>0.882473</td>\n",
       "      <td>1.724423</td>\n",
       "      <td>0.186722</td>\n",
       "      <td>-0.641872</td>\n",
       "    </tr>\n",
       "    <tr>\n",
       "      <td>2020-03-03</td>\n",
       "      <td>2.583529</td>\n",
       "      <td>-0.274242</td>\n",
       "      <td>-0.575889</td>\n",
       "      <td>-0.035593</td>\n",
       "    </tr>\n",
       "    <tr>\n",
       "      <td>2020-03-04</td>\n",
       "      <td>0.656508</td>\n",
       "      <td>0.893897</td>\n",
       "      <td>-2.501086</td>\n",
       "      <td>-0.765147</td>\n",
       "    </tr>\n",
       "    <tr>\n",
       "      <td>2020-03-05</td>\n",
       "      <td>-0.529995</td>\n",
       "      <td>-0.475489</td>\n",
       "      <td>-0.472758</td>\n",
       "      <td>0.967229</td>\n",
       "    </tr>\n",
       "  </tbody>\n",
       "</table>\n",
       "</div>"
      ],
      "text/plain": [
       "                   A         B         C         D\n",
       "2020-03-01 -0.625416 -0.633803 -1.976715 -1.375318\n",
       "2020-03-02  0.882473  1.724423  0.186722 -0.641872\n",
       "2020-03-03  2.583529 -0.274242 -0.575889 -0.035593\n",
       "2020-03-04  0.656508  0.893897 -2.501086 -0.765147\n",
       "2020-03-05 -0.529995 -0.475489 -0.472758  0.967229"
      ]
     },
     "execution_count": 50,
     "metadata": {},
     "output_type": "execute_result"
    }
   ],
   "source": [
    "df1.head()"
   ]
  },
  {
   "cell_type": "code",
   "execution_count": 55,
   "metadata": {},
   "outputs": [
    {
     "data": {
      "text/html": [
       "<div>\n",
       "<style scoped>\n",
       "    .dataframe tbody tr th:only-of-type {\n",
       "        vertical-align: middle;\n",
       "    }\n",
       "\n",
       "    .dataframe tbody tr th {\n",
       "        vertical-align: top;\n",
       "    }\n",
       "\n",
       "    .dataframe thead th {\n",
       "        text-align: right;\n",
       "    }\n",
       "</style>\n",
       "<table border=\"1\" class=\"dataframe\">\n",
       "  <thead>\n",
       "    <tr style=\"text-align: right;\">\n",
       "      <th></th>\n",
       "      <th>A</th>\n",
       "      <th>C</th>\n",
       "    </tr>\n",
       "  </thead>\n",
       "  <tbody>\n",
       "    <tr>\n",
       "      <td>2020-03-01</td>\n",
       "      <td>-0.625416</td>\n",
       "      <td>-1.976715</td>\n",
       "    </tr>\n",
       "    <tr>\n",
       "      <td>2020-03-02</td>\n",
       "      <td>0.882473</td>\n",
       "      <td>0.186722</td>\n",
       "    </tr>\n",
       "    <tr>\n",
       "      <td>2020-03-03</td>\n",
       "      <td>2.583529</td>\n",
       "      <td>-0.575889</td>\n",
       "    </tr>\n",
       "    <tr>\n",
       "      <td>2020-03-04</td>\n",
       "      <td>0.656508</td>\n",
       "      <td>-2.501086</td>\n",
       "    </tr>\n",
       "    <tr>\n",
       "      <td>2020-03-05</td>\n",
       "      <td>-0.529995</td>\n",
       "      <td>-0.472758</td>\n",
       "    </tr>\n",
       "    <tr>\n",
       "      <td>2020-03-06</td>\n",
       "      <td>-0.373437</td>\n",
       "      <td>0.478386</td>\n",
       "    </tr>\n",
       "    <tr>\n",
       "      <td>2020-03-07</td>\n",
       "      <td>1.881235</td>\n",
       "      <td>-0.090282</td>\n",
       "    </tr>\n",
       "    <tr>\n",
       "      <td>2020-03-08</td>\n",
       "      <td>-0.399472</td>\n",
       "      <td>-0.834876</td>\n",
       "    </tr>\n",
       "    <tr>\n",
       "      <td>2020-03-09</td>\n",
       "      <td>-0.148058</td>\n",
       "      <td>-0.198033</td>\n",
       "    </tr>\n",
       "    <tr>\n",
       "      <td>2020-03-10</td>\n",
       "      <td>0.291940</td>\n",
       "      <td>0.023436</td>\n",
       "    </tr>\n",
       "  </tbody>\n",
       "</table>\n",
       "</div>"
      ],
      "text/plain": [
       "                   A         C\n",
       "2020-03-01 -0.625416 -1.976715\n",
       "2020-03-02  0.882473  0.186722\n",
       "2020-03-03  2.583529 -0.575889\n",
       "2020-03-04  0.656508 -2.501086\n",
       "2020-03-05 -0.529995 -0.472758\n",
       "2020-03-06 -0.373437  0.478386\n",
       "2020-03-07  1.881235 -0.090282\n",
       "2020-03-08 -0.399472 -0.834876\n",
       "2020-03-09 -0.148058 -0.198033\n",
       "2020-03-10  0.291940  0.023436"
      ]
     },
     "execution_count": 55,
     "metadata": {},
     "output_type": "execute_result"
    }
   ],
   "source": [
    "df1.loc[:,['A','C']]"
   ]
  },
  {
   "cell_type": "code",
   "execution_count": 59,
   "metadata": {},
   "outputs": [
    {
     "data": {
      "text/html": [
       "<div>\n",
       "<style scoped>\n",
       "    .dataframe tbody tr th:only-of-type {\n",
       "        vertical-align: middle;\n",
       "    }\n",
       "\n",
       "    .dataframe tbody tr th {\n",
       "        vertical-align: top;\n",
       "    }\n",
       "\n",
       "    .dataframe thead th {\n",
       "        text-align: right;\n",
       "    }\n",
       "</style>\n",
       "<table border=\"1\" class=\"dataframe\">\n",
       "  <thead>\n",
       "    <tr style=\"text-align: right;\">\n",
       "      <th></th>\n",
       "      <th>B</th>\n",
       "      <th>C</th>\n",
       "      <th>D</th>\n",
       "    </tr>\n",
       "  </thead>\n",
       "  <tbody>\n",
       "    <tr>\n",
       "      <td>2020-03-01</td>\n",
       "      <td>-0.633803</td>\n",
       "      <td>-1.976715</td>\n",
       "      <td>-1.375318</td>\n",
       "    </tr>\n",
       "    <tr>\n",
       "      <td>2020-03-02</td>\n",
       "      <td>1.724423</td>\n",
       "      <td>0.186722</td>\n",
       "      <td>-0.641872</td>\n",
       "    </tr>\n",
       "  </tbody>\n",
       "</table>\n",
       "</div>"
      ],
      "text/plain": [
       "                   B         C         D\n",
       "2020-03-01 -0.633803 -1.976715 -1.375318\n",
       "2020-03-02  1.724423  0.186722 -0.641872"
      ]
     },
     "execution_count": 59,
     "metadata": {},
     "output_type": "execute_result"
    }
   ],
   "source": [
    "df1.iloc[0:2,1:4]"
   ]
  },
  {
   "cell_type": "code",
   "execution_count": 63,
   "metadata": {},
   "outputs": [
    {
     "data": {
      "text/html": [
       "<div>\n",
       "<style scoped>\n",
       "    .dataframe tbody tr th:only-of-type {\n",
       "        vertical-align: middle;\n",
       "    }\n",
       "\n",
       "    .dataframe tbody tr th {\n",
       "        vertical-align: top;\n",
       "    }\n",
       "\n",
       "    .dataframe thead th {\n",
       "        text-align: right;\n",
       "    }\n",
       "</style>\n",
       "<table border=\"1\" class=\"dataframe\">\n",
       "  <thead>\n",
       "    <tr style=\"text-align: right;\">\n",
       "      <th></th>\n",
       "      <th>A</th>\n",
       "      <th>B</th>\n",
       "      <th>C</th>\n",
       "      <th>D</th>\n",
       "    </tr>\n",
       "  </thead>\n",
       "  <tbody>\n",
       "    <tr>\n",
       "      <td>2020-03-02</td>\n",
       "      <td>0.882473</td>\n",
       "      <td>1.724423</td>\n",
       "      <td>0.186722</td>\n",
       "      <td>-0.641872</td>\n",
       "    </tr>\n",
       "    <tr>\n",
       "      <td>2020-03-03</td>\n",
       "      <td>2.583529</td>\n",
       "      <td>-0.274242</td>\n",
       "      <td>-0.575889</td>\n",
       "      <td>-0.035593</td>\n",
       "    </tr>\n",
       "    <tr>\n",
       "      <td>2020-03-04</td>\n",
       "      <td>0.656508</td>\n",
       "      <td>0.893897</td>\n",
       "      <td>-2.501086</td>\n",
       "      <td>-0.765147</td>\n",
       "    </tr>\n",
       "    <tr>\n",
       "      <td>2020-03-07</td>\n",
       "      <td>1.881235</td>\n",
       "      <td>-0.336688</td>\n",
       "      <td>-0.090282</td>\n",
       "      <td>-0.152162</td>\n",
       "    </tr>\n",
       "    <tr>\n",
       "      <td>2020-03-10</td>\n",
       "      <td>0.291940</td>\n",
       "      <td>-0.114620</td>\n",
       "      <td>0.023436</td>\n",
       "      <td>1.518044</td>\n",
       "    </tr>\n",
       "  </tbody>\n",
       "</table>\n",
       "</div>"
      ],
      "text/plain": [
       "                   A         B         C         D\n",
       "2020-03-02  0.882473  1.724423  0.186722 -0.641872\n",
       "2020-03-03  2.583529 -0.274242 -0.575889 -0.035593\n",
       "2020-03-04  0.656508  0.893897 -2.501086 -0.765147\n",
       "2020-03-07  1.881235 -0.336688 -0.090282 -0.152162\n",
       "2020-03-10  0.291940 -0.114620  0.023436  1.518044"
      ]
     },
     "execution_count": 63,
     "metadata": {},
     "output_type": "execute_result"
    }
   ],
   "source": [
    "df1[df1['A'] > 0]"
   ]
  },
  {
   "cell_type": "code",
   "execution_count": 64,
   "metadata": {},
   "outputs": [],
   "source": [
    "df2 = df1.reindex(index=d[0:4],columns=list(df1.columns)+['F'])"
   ]
  },
  {
   "cell_type": "code",
   "execution_count": 66,
   "metadata": {},
   "outputs": [],
   "source": [
    "df2.loc[d[0]:d[1],'F'] = 1"
   ]
  },
  {
   "cell_type": "code",
   "execution_count": 68,
   "metadata": {},
   "outputs": [
    {
     "data": {
      "text/html": [
       "<div>\n",
       "<style scoped>\n",
       "    .dataframe tbody tr th:only-of-type {\n",
       "        vertical-align: middle;\n",
       "    }\n",
       "\n",
       "    .dataframe tbody tr th {\n",
       "        vertical-align: top;\n",
       "    }\n",
       "\n",
       "    .dataframe thead th {\n",
       "        text-align: right;\n",
       "    }\n",
       "</style>\n",
       "<table border=\"1\" class=\"dataframe\">\n",
       "  <thead>\n",
       "    <tr style=\"text-align: right;\">\n",
       "      <th></th>\n",
       "      <th>A</th>\n",
       "      <th>B</th>\n",
       "      <th>C</th>\n",
       "      <th>D</th>\n",
       "      <th>F</th>\n",
       "    </tr>\n",
       "  </thead>\n",
       "  <tbody>\n",
       "    <tr>\n",
       "      <td>2020-03-01</td>\n",
       "      <td>-0.625416</td>\n",
       "      <td>-0.633803</td>\n",
       "      <td>-1.976715</td>\n",
       "      <td>-1.375318</td>\n",
       "      <td>1.0</td>\n",
       "    </tr>\n",
       "    <tr>\n",
       "      <td>2020-03-02</td>\n",
       "      <td>0.882473</td>\n",
       "      <td>1.724423</td>\n",
       "      <td>0.186722</td>\n",
       "      <td>-0.641872</td>\n",
       "      <td>1.0</td>\n",
       "    </tr>\n",
       "    <tr>\n",
       "      <td>2020-03-03</td>\n",
       "      <td>2.583529</td>\n",
       "      <td>-0.274242</td>\n",
       "      <td>-0.575889</td>\n",
       "      <td>-0.035593</td>\n",
       "      <td>NaN</td>\n",
       "    </tr>\n",
       "    <tr>\n",
       "      <td>2020-03-04</td>\n",
       "      <td>0.656508</td>\n",
       "      <td>0.893897</td>\n",
       "      <td>-2.501086</td>\n",
       "      <td>-0.765147</td>\n",
       "      <td>NaN</td>\n",
       "    </tr>\n",
       "  </tbody>\n",
       "</table>\n",
       "</div>"
      ],
      "text/plain": [
       "                   A         B         C         D    F\n",
       "2020-03-01 -0.625416 -0.633803 -1.976715 -1.375318  1.0\n",
       "2020-03-02  0.882473  1.724423  0.186722 -0.641872  1.0\n",
       "2020-03-03  2.583529 -0.274242 -0.575889 -0.035593  NaN\n",
       "2020-03-04  0.656508  0.893897 -2.501086 -0.765147  NaN"
      ]
     },
     "execution_count": 68,
     "metadata": {},
     "output_type": "execute_result"
    }
   ],
   "source": [
    "df2"
   ]
  },
  {
   "cell_type": "code",
   "execution_count": 70,
   "metadata": {},
   "outputs": [
    {
     "data": {
      "text/html": [
       "<div>\n",
       "<style scoped>\n",
       "    .dataframe tbody tr th:only-of-type {\n",
       "        vertical-align: middle;\n",
       "    }\n",
       "\n",
       "    .dataframe tbody tr th {\n",
       "        vertical-align: top;\n",
       "    }\n",
       "\n",
       "    .dataframe thead th {\n",
       "        text-align: right;\n",
       "    }\n",
       "</style>\n",
       "<table border=\"1\" class=\"dataframe\">\n",
       "  <thead>\n",
       "    <tr style=\"text-align: right;\">\n",
       "      <th></th>\n",
       "      <th>A</th>\n",
       "      <th>B</th>\n",
       "      <th>C</th>\n",
       "      <th>D</th>\n",
       "      <th>F</th>\n",
       "    </tr>\n",
       "  </thead>\n",
       "  <tbody>\n",
       "    <tr>\n",
       "      <td>2020-03-01</td>\n",
       "      <td>False</td>\n",
       "      <td>False</td>\n",
       "      <td>False</td>\n",
       "      <td>False</td>\n",
       "      <td>False</td>\n",
       "    </tr>\n",
       "    <tr>\n",
       "      <td>2020-03-02</td>\n",
       "      <td>False</td>\n",
       "      <td>False</td>\n",
       "      <td>False</td>\n",
       "      <td>False</td>\n",
       "      <td>False</td>\n",
       "    </tr>\n",
       "    <tr>\n",
       "      <td>2020-03-03</td>\n",
       "      <td>False</td>\n",
       "      <td>False</td>\n",
       "      <td>False</td>\n",
       "      <td>False</td>\n",
       "      <td>True</td>\n",
       "    </tr>\n",
       "    <tr>\n",
       "      <td>2020-03-04</td>\n",
       "      <td>False</td>\n",
       "      <td>False</td>\n",
       "      <td>False</td>\n",
       "      <td>False</td>\n",
       "      <td>True</td>\n",
       "    </tr>\n",
       "  </tbody>\n",
       "</table>\n",
       "</div>"
      ],
      "text/plain": [
       "                A      B      C      D      F\n",
       "2020-03-01  False  False  False  False  False\n",
       "2020-03-02  False  False  False  False  False\n",
       "2020-03-03  False  False  False  False   True\n",
       "2020-03-04  False  False  False  False   True"
      ]
     },
     "execution_count": 70,
     "metadata": {},
     "output_type": "execute_result"
    }
   ],
   "source": [
    "df2.isnull()"
   ]
  },
  {
   "cell_type": "code",
   "execution_count": 71,
   "metadata": {},
   "outputs": [
    {
     "data": {
      "text/plain": [
       "A    4\n",
       "B    4\n",
       "C    4\n",
       "D    4\n",
       "F    4\n",
       "dtype: int64"
      ]
     },
     "execution_count": 71,
     "metadata": {},
     "output_type": "execute_result"
    }
   ],
   "source": [
    "df2.isnull().count()"
   ]
  },
  {
   "cell_type": "code",
   "execution_count": 72,
   "metadata": {},
   "outputs": [
    {
     "data": {
      "text/html": [
       "<div>\n",
       "<style scoped>\n",
       "    .dataframe tbody tr th:only-of-type {\n",
       "        vertical-align: middle;\n",
       "    }\n",
       "\n",
       "    .dataframe tbody tr th {\n",
       "        vertical-align: top;\n",
       "    }\n",
       "\n",
       "    .dataframe thead th {\n",
       "        text-align: right;\n",
       "    }\n",
       "</style>\n",
       "<table border=\"1\" class=\"dataframe\">\n",
       "  <thead>\n",
       "    <tr style=\"text-align: right;\">\n",
       "      <th></th>\n",
       "      <th>A</th>\n",
       "      <th>B</th>\n",
       "      <th>C</th>\n",
       "      <th>D</th>\n",
       "      <th>F</th>\n",
       "    </tr>\n",
       "  </thead>\n",
       "  <tbody>\n",
       "    <tr>\n",
       "      <td>2020-03-01</td>\n",
       "      <td>-0.625416</td>\n",
       "      <td>-0.633803</td>\n",
       "      <td>-1.976715</td>\n",
       "      <td>-1.375318</td>\n",
       "      <td>1.0</td>\n",
       "    </tr>\n",
       "    <tr>\n",
       "      <td>2020-03-02</td>\n",
       "      <td>0.882473</td>\n",
       "      <td>1.724423</td>\n",
       "      <td>0.186722</td>\n",
       "      <td>-0.641872</td>\n",
       "      <td>1.0</td>\n",
       "    </tr>\n",
       "  </tbody>\n",
       "</table>\n",
       "</div>"
      ],
      "text/plain": [
       "                   A         B         C         D    F\n",
       "2020-03-01 -0.625416 -0.633803 -1.976715 -1.375318  1.0\n",
       "2020-03-02  0.882473  1.724423  0.186722 -0.641872  1.0"
      ]
     },
     "execution_count": 72,
     "metadata": {},
     "output_type": "execute_result"
    }
   ],
   "source": [
    "df2.dropna()"
   ]
  },
  {
   "cell_type": "code",
   "execution_count": 73,
   "metadata": {},
   "outputs": [
    {
     "data": {
      "text/html": [
       "<div>\n",
       "<style scoped>\n",
       "    .dataframe tbody tr th:only-of-type {\n",
       "        vertical-align: middle;\n",
       "    }\n",
       "\n",
       "    .dataframe tbody tr th {\n",
       "        vertical-align: top;\n",
       "    }\n",
       "\n",
       "    .dataframe thead th {\n",
       "        text-align: right;\n",
       "    }\n",
       "</style>\n",
       "<table border=\"1\" class=\"dataframe\">\n",
       "  <thead>\n",
       "    <tr style=\"text-align: right;\">\n",
       "      <th></th>\n",
       "      <th>A</th>\n",
       "      <th>B</th>\n",
       "      <th>C</th>\n",
       "      <th>D</th>\n",
       "      <th>F</th>\n",
       "    </tr>\n",
       "  </thead>\n",
       "  <tbody>\n",
       "    <tr>\n",
       "      <td>2020-03-01</td>\n",
       "      <td>-0.625416</td>\n",
       "      <td>-0.633803</td>\n",
       "      <td>-1.976715</td>\n",
       "      <td>-1.375318</td>\n",
       "      <td>1.0</td>\n",
       "    </tr>\n",
       "    <tr>\n",
       "      <td>2020-03-02</td>\n",
       "      <td>0.882473</td>\n",
       "      <td>1.724423</td>\n",
       "      <td>0.186722</td>\n",
       "      <td>-0.641872</td>\n",
       "      <td>1.0</td>\n",
       "    </tr>\n",
       "    <tr>\n",
       "      <td>2020-03-03</td>\n",
       "      <td>2.583529</td>\n",
       "      <td>-0.274242</td>\n",
       "      <td>-0.575889</td>\n",
       "      <td>-0.035593</td>\n",
       "      <td>3.0</td>\n",
       "    </tr>\n",
       "    <tr>\n",
       "      <td>2020-03-04</td>\n",
       "      <td>0.656508</td>\n",
       "      <td>0.893897</td>\n",
       "      <td>-2.501086</td>\n",
       "      <td>-0.765147</td>\n",
       "      <td>3.0</td>\n",
       "    </tr>\n",
       "  </tbody>\n",
       "</table>\n",
       "</div>"
      ],
      "text/plain": [
       "                   A         B         C         D    F\n",
       "2020-03-01 -0.625416 -0.633803 -1.976715 -1.375318  1.0\n",
       "2020-03-02  0.882473  1.724423  0.186722 -0.641872  1.0\n",
       "2020-03-03  2.583529 -0.274242 -0.575889 -0.035593  3.0\n",
       "2020-03-04  0.656508  0.893897 -2.501086 -0.765147  3.0"
      ]
     },
     "execution_count": 73,
     "metadata": {},
     "output_type": "execute_result"
    }
   ],
   "source": [
    "df2.fillna(value=3)"
   ]
  },
  {
   "cell_type": "code",
   "execution_count": 76,
   "metadata": {},
   "outputs": [
    {
     "data": {
      "text/html": [
       "<div>\n",
       "<style scoped>\n",
       "    .dataframe tbody tr th:only-of-type {\n",
       "        vertical-align: middle;\n",
       "    }\n",
       "\n",
       "    .dataframe tbody tr th {\n",
       "        vertical-align: top;\n",
       "    }\n",
       "\n",
       "    .dataframe thead th {\n",
       "        text-align: right;\n",
       "    }\n",
       "</style>\n",
       "<table border=\"1\" class=\"dataframe\">\n",
       "  <thead>\n",
       "    <tr style=\"text-align: right;\">\n",
       "      <th></th>\n",
       "      <th>A</th>\n",
       "      <th>B</th>\n",
       "      <th>C</th>\n",
       "      <th>D</th>\n",
       "      <th>F</th>\n",
       "    </tr>\n",
       "  </thead>\n",
       "  <tbody>\n",
       "    <tr>\n",
       "      <td>2020-03-01</td>\n",
       "      <td>False</td>\n",
       "      <td>False</td>\n",
       "      <td>False</td>\n",
       "      <td>False</td>\n",
       "      <td>False</td>\n",
       "    </tr>\n",
       "    <tr>\n",
       "      <td>2020-03-02</td>\n",
       "      <td>False</td>\n",
       "      <td>False</td>\n",
       "      <td>False</td>\n",
       "      <td>False</td>\n",
       "      <td>False</td>\n",
       "    </tr>\n",
       "    <tr>\n",
       "      <td>2020-03-03</td>\n",
       "      <td>False</td>\n",
       "      <td>False</td>\n",
       "      <td>False</td>\n",
       "      <td>False</td>\n",
       "      <td>True</td>\n",
       "    </tr>\n",
       "    <tr>\n",
       "      <td>2020-03-04</td>\n",
       "      <td>False</td>\n",
       "      <td>False</td>\n",
       "      <td>False</td>\n",
       "      <td>False</td>\n",
       "      <td>True</td>\n",
       "    </tr>\n",
       "  </tbody>\n",
       "</table>\n",
       "</div>"
      ],
      "text/plain": [
       "                A      B      C      D      F\n",
       "2020-03-01  False  False  False  False  False\n",
       "2020-03-02  False  False  False  False  False\n",
       "2020-03-03  False  False  False  False   True\n",
       "2020-03-04  False  False  False  False   True"
      ]
     },
     "execution_count": 76,
     "metadata": {},
     "output_type": "execute_result"
    }
   ],
   "source": [
    "pd.isna(df2)"
   ]
  },
  {
   "cell_type": "code",
   "execution_count": 79,
   "metadata": {},
   "outputs": [
    {
     "data": {
      "text/plain": [
       "A    0.421931\n",
       "B    0.313010\n",
       "C   -0.596110\n",
       "D   -0.019661\n",
       "dtype: float64"
      ]
     },
     "execution_count": 79,
     "metadata": {},
     "output_type": "execute_result"
    }
   ],
   "source": [
    "df1.mean()"
   ]
  },
  {
   "cell_type": "code",
   "execution_count": 84,
   "metadata": {},
   "outputs": [
    {
     "data": {
      "text/plain": [
       "2020-03-01   -1.152813\n",
       "2020-03-02    0.537936\n",
       "2020-03-03    0.424451\n",
       "2020-03-04   -0.428957\n",
       "2020-03-05   -0.127753\n",
       "2020-03-06    0.372494\n",
       "2020-03-07    0.325526\n",
       "2020-03-08   -0.262386\n",
       "2020-03-09    0.179727\n",
       "2020-03-10    0.429700\n",
       "Freq: D, dtype: float64"
      ]
     },
     "execution_count": 84,
     "metadata": {},
     "output_type": "execute_result"
    }
   ],
   "source": [
    "df1.mean(1)"
   ]
  },
  {
   "cell_type": "code",
   "execution_count": 88,
   "metadata": {},
   "outputs": [],
   "source": [
    "s = pd.Series([1,2,3,4,np.nan,5,6,7,8,9],index=d).shift(2)"
   ]
  },
  {
   "cell_type": "code",
   "execution_count": 90,
   "metadata": {},
   "outputs": [
    {
     "data": {
      "text/plain": [
       "2020-03-01    NaN\n",
       "2020-03-02    NaN\n",
       "2020-03-03    1.0\n",
       "2020-03-04    2.0\n",
       "2020-03-05    3.0\n",
       "2020-03-06    4.0\n",
       "2020-03-07    NaN\n",
       "2020-03-08    5.0\n",
       "2020-03-09    6.0\n",
       "2020-03-10    7.0\n",
       "Freq: D, dtype: float64"
      ]
     },
     "execution_count": 90,
     "metadata": {},
     "output_type": "execute_result"
    }
   ],
   "source": [
    "s"
   ]
  },
  {
   "cell_type": "code",
   "execution_count": 91,
   "metadata": {},
   "outputs": [
    {
     "data": {
      "text/html": [
       "<div>\n",
       "<style scoped>\n",
       "    .dataframe tbody tr th:only-of-type {\n",
       "        vertical-align: middle;\n",
       "    }\n",
       "\n",
       "    .dataframe tbody tr th {\n",
       "        vertical-align: top;\n",
       "    }\n",
       "\n",
       "    .dataframe thead th {\n",
       "        text-align: right;\n",
       "    }\n",
       "</style>\n",
       "<table border=\"1\" class=\"dataframe\">\n",
       "  <thead>\n",
       "    <tr style=\"text-align: right;\">\n",
       "      <th></th>\n",
       "      <th>A</th>\n",
       "      <th>B</th>\n",
       "      <th>C</th>\n",
       "      <th>D</th>\n",
       "    </tr>\n",
       "  </thead>\n",
       "  <tbody>\n",
       "    <tr>\n",
       "      <td>2020-03-01</td>\n",
       "      <td>NaN</td>\n",
       "      <td>NaN</td>\n",
       "      <td>NaN</td>\n",
       "      <td>NaN</td>\n",
       "    </tr>\n",
       "    <tr>\n",
       "      <td>2020-03-02</td>\n",
       "      <td>NaN</td>\n",
       "      <td>NaN</td>\n",
       "      <td>NaN</td>\n",
       "      <td>NaN</td>\n",
       "    </tr>\n",
       "    <tr>\n",
       "      <td>2020-03-03</td>\n",
       "      <td>1.583529</td>\n",
       "      <td>-1.274242</td>\n",
       "      <td>-1.575889</td>\n",
       "      <td>-1.035593</td>\n",
       "    </tr>\n",
       "    <tr>\n",
       "      <td>2020-03-04</td>\n",
       "      <td>-1.343492</td>\n",
       "      <td>-1.106103</td>\n",
       "      <td>-4.501086</td>\n",
       "      <td>-2.765147</td>\n",
       "    </tr>\n",
       "    <tr>\n",
       "      <td>2020-03-05</td>\n",
       "      <td>-3.529995</td>\n",
       "      <td>-3.475489</td>\n",
       "      <td>-3.472758</td>\n",
       "      <td>-2.032771</td>\n",
       "    </tr>\n",
       "    <tr>\n",
       "      <td>2020-03-06</td>\n",
       "      <td>-4.373437</td>\n",
       "      <td>-3.217008</td>\n",
       "      <td>-3.521614</td>\n",
       "      <td>-3.397964</td>\n",
       "    </tr>\n",
       "    <tr>\n",
       "      <td>2020-03-07</td>\n",
       "      <td>NaN</td>\n",
       "      <td>NaN</td>\n",
       "      <td>NaN</td>\n",
       "      <td>NaN</td>\n",
       "    </tr>\n",
       "    <tr>\n",
       "      <td>2020-03-08</td>\n",
       "      <td>-5.399472</td>\n",
       "      <td>-4.283223</td>\n",
       "      <td>-5.834876</td>\n",
       "      <td>-5.531974</td>\n",
       "    </tr>\n",
       "    <tr>\n",
       "      <td>2020-03-09</td>\n",
       "      <td>-6.148058</td>\n",
       "      <td>-5.153148</td>\n",
       "      <td>-6.198033</td>\n",
       "      <td>-5.781854</td>\n",
       "    </tr>\n",
       "    <tr>\n",
       "      <td>2020-03-10</td>\n",
       "      <td>-6.708060</td>\n",
       "      <td>-7.114620</td>\n",
       "      <td>-6.976564</td>\n",
       "      <td>-5.481956</td>\n",
       "    </tr>\n",
       "  </tbody>\n",
       "</table>\n",
       "</div>"
      ],
      "text/plain": [
       "                   A         B         C         D\n",
       "2020-03-01       NaN       NaN       NaN       NaN\n",
       "2020-03-02       NaN       NaN       NaN       NaN\n",
       "2020-03-03  1.583529 -1.274242 -1.575889 -1.035593\n",
       "2020-03-04 -1.343492 -1.106103 -4.501086 -2.765147\n",
       "2020-03-05 -3.529995 -3.475489 -3.472758 -2.032771\n",
       "2020-03-06 -4.373437 -3.217008 -3.521614 -3.397964\n",
       "2020-03-07       NaN       NaN       NaN       NaN\n",
       "2020-03-08 -5.399472 -4.283223 -5.834876 -5.531974\n",
       "2020-03-09 -6.148058 -5.153148 -6.198033 -5.781854\n",
       "2020-03-10 -6.708060 -7.114620 -6.976564 -5.481956"
      ]
     },
     "execution_count": 91,
     "metadata": {},
     "output_type": "execute_result"
    }
   ],
   "source": [
    "df1.sub(s,axis='index')"
   ]
  },
  {
   "cell_type": "code",
   "execution_count": 93,
   "metadata": {},
   "outputs": [
    {
     "data": {
      "text/html": [
       "<div>\n",
       "<style scoped>\n",
       "    .dataframe tbody tr th:only-of-type {\n",
       "        vertical-align: middle;\n",
       "    }\n",
       "\n",
       "    .dataframe tbody tr th {\n",
       "        vertical-align: top;\n",
       "    }\n",
       "\n",
       "    .dataframe thead th {\n",
       "        text-align: right;\n",
       "    }\n",
       "</style>\n",
       "<table border=\"1\" class=\"dataframe\">\n",
       "  <thead>\n",
       "    <tr style=\"text-align: right;\">\n",
       "      <th></th>\n",
       "      <th>A</th>\n",
       "      <th>B</th>\n",
       "      <th>C</th>\n",
       "      <th>D</th>\n",
       "    </tr>\n",
       "  </thead>\n",
       "  <tbody>\n",
       "    <tr>\n",
       "      <td>2020-03-01</td>\n",
       "      <td>-0.625416</td>\n",
       "      <td>-0.633803</td>\n",
       "      <td>-1.976715</td>\n",
       "      <td>-1.375318</td>\n",
       "    </tr>\n",
       "    <tr>\n",
       "      <td>2020-03-02</td>\n",
       "      <td>0.882473</td>\n",
       "      <td>1.724423</td>\n",
       "      <td>0.186722</td>\n",
       "      <td>-0.641872</td>\n",
       "    </tr>\n",
       "    <tr>\n",
       "      <td>2020-03-03</td>\n",
       "      <td>2.583529</td>\n",
       "      <td>-0.274242</td>\n",
       "      <td>-0.575889</td>\n",
       "      <td>-0.035593</td>\n",
       "    </tr>\n",
       "    <tr>\n",
       "      <td>2020-03-04</td>\n",
       "      <td>0.656508</td>\n",
       "      <td>0.893897</td>\n",
       "      <td>-2.501086</td>\n",
       "      <td>-0.765147</td>\n",
       "    </tr>\n",
       "    <tr>\n",
       "      <td>2020-03-05</td>\n",
       "      <td>-0.529995</td>\n",
       "      <td>-0.475489</td>\n",
       "      <td>-0.472758</td>\n",
       "      <td>0.967229</td>\n",
       "    </tr>\n",
       "    <tr>\n",
       "      <td>2020-03-06</td>\n",
       "      <td>-0.373437</td>\n",
       "      <td>0.782992</td>\n",
       "      <td>0.478386</td>\n",
       "      <td>0.602036</td>\n",
       "    </tr>\n",
       "    <tr>\n",
       "      <td>2020-03-07</td>\n",
       "      <td>1.881235</td>\n",
       "      <td>-0.336688</td>\n",
       "      <td>-0.090282</td>\n",
       "      <td>-0.152162</td>\n",
       "    </tr>\n",
       "    <tr>\n",
       "      <td>2020-03-08</td>\n",
       "      <td>-0.399472</td>\n",
       "      <td>0.716777</td>\n",
       "      <td>-0.834876</td>\n",
       "      <td>-0.531974</td>\n",
       "    </tr>\n",
       "    <tr>\n",
       "      <td>2020-03-09</td>\n",
       "      <td>-0.148058</td>\n",
       "      <td>0.846852</td>\n",
       "      <td>-0.198033</td>\n",
       "      <td>0.218146</td>\n",
       "    </tr>\n",
       "    <tr>\n",
       "      <td>2020-03-10</td>\n",
       "      <td>0.291940</td>\n",
       "      <td>-0.114620</td>\n",
       "      <td>0.023436</td>\n",
       "      <td>1.518044</td>\n",
       "    </tr>\n",
       "  </tbody>\n",
       "</table>\n",
       "</div>"
      ],
      "text/plain": [
       "                   A         B         C         D\n",
       "2020-03-01 -0.625416 -0.633803 -1.976715 -1.375318\n",
       "2020-03-02  0.882473  1.724423  0.186722 -0.641872\n",
       "2020-03-03  2.583529 -0.274242 -0.575889 -0.035593\n",
       "2020-03-04  0.656508  0.893897 -2.501086 -0.765147\n",
       "2020-03-05 -0.529995 -0.475489 -0.472758  0.967229\n",
       "2020-03-06 -0.373437  0.782992  0.478386  0.602036\n",
       "2020-03-07  1.881235 -0.336688 -0.090282 -0.152162\n",
       "2020-03-08 -0.399472  0.716777 -0.834876 -0.531974\n",
       "2020-03-09 -0.148058  0.846852 -0.198033  0.218146\n",
       "2020-03-10  0.291940 -0.114620  0.023436  1.518044"
      ]
     },
     "execution_count": 93,
     "metadata": {},
     "output_type": "execute_result"
    }
   ],
   "source": [
    "df1"
   ]
  },
  {
   "cell_type": "code",
   "execution_count": 94,
   "metadata": {},
   "outputs": [
    {
     "data": {
      "text/html": [
       "<div>\n",
       "<style scoped>\n",
       "    .dataframe tbody tr th:only-of-type {\n",
       "        vertical-align: middle;\n",
       "    }\n",
       "\n",
       "    .dataframe tbody tr th {\n",
       "        vertical-align: top;\n",
       "    }\n",
       "\n",
       "    .dataframe thead th {\n",
       "        text-align: right;\n",
       "    }\n",
       "</style>\n",
       "<table border=\"1\" class=\"dataframe\">\n",
       "  <thead>\n",
       "    <tr style=\"text-align: right;\">\n",
       "      <th></th>\n",
       "      <th>A</th>\n",
       "      <th>B</th>\n",
       "      <th>C</th>\n",
       "      <th>D</th>\n",
       "    </tr>\n",
       "  </thead>\n",
       "  <tbody>\n",
       "    <tr>\n",
       "      <td>2020-03-01</td>\n",
       "      <td>-0.625416</td>\n",
       "      <td>-0.633803</td>\n",
       "      <td>-1.976715</td>\n",
       "      <td>-1.375318</td>\n",
       "    </tr>\n",
       "    <tr>\n",
       "      <td>2020-03-02</td>\n",
       "      <td>0.257057</td>\n",
       "      <td>1.090620</td>\n",
       "      <td>-1.789993</td>\n",
       "      <td>-2.017190</td>\n",
       "    </tr>\n",
       "    <tr>\n",
       "      <td>2020-03-03</td>\n",
       "      <td>2.840586</td>\n",
       "      <td>0.816378</td>\n",
       "      <td>-2.365882</td>\n",
       "      <td>-2.052783</td>\n",
       "    </tr>\n",
       "    <tr>\n",
       "      <td>2020-03-04</td>\n",
       "      <td>3.497094</td>\n",
       "      <td>1.710275</td>\n",
       "      <td>-4.866969</td>\n",
       "      <td>-2.817931</td>\n",
       "    </tr>\n",
       "    <tr>\n",
       "      <td>2020-03-05</td>\n",
       "      <td>2.967099</td>\n",
       "      <td>1.234785</td>\n",
       "      <td>-5.339727</td>\n",
       "      <td>-1.850702</td>\n",
       "    </tr>\n",
       "    <tr>\n",
       "      <td>2020-03-06</td>\n",
       "      <td>2.593663</td>\n",
       "      <td>2.017778</td>\n",
       "      <td>-4.861341</td>\n",
       "      <td>-1.248666</td>\n",
       "    </tr>\n",
       "    <tr>\n",
       "      <td>2020-03-07</td>\n",
       "      <td>4.474897</td>\n",
       "      <td>1.681090</td>\n",
       "      <td>-4.951623</td>\n",
       "      <td>-1.400828</td>\n",
       "    </tr>\n",
       "    <tr>\n",
       "      <td>2020-03-08</td>\n",
       "      <td>4.075426</td>\n",
       "      <td>2.397867</td>\n",
       "      <td>-5.786499</td>\n",
       "      <td>-1.932802</td>\n",
       "    </tr>\n",
       "    <tr>\n",
       "      <td>2020-03-09</td>\n",
       "      <td>3.927368</td>\n",
       "      <td>3.244718</td>\n",
       "      <td>-5.984532</td>\n",
       "      <td>-1.714656</td>\n",
       "    </tr>\n",
       "    <tr>\n",
       "      <td>2020-03-10</td>\n",
       "      <td>4.219309</td>\n",
       "      <td>3.130098</td>\n",
       "      <td>-5.961096</td>\n",
       "      <td>-0.196611</td>\n",
       "    </tr>\n",
       "  </tbody>\n",
       "</table>\n",
       "</div>"
      ],
      "text/plain": [
       "                   A         B         C         D\n",
       "2020-03-01 -0.625416 -0.633803 -1.976715 -1.375318\n",
       "2020-03-02  0.257057  1.090620 -1.789993 -2.017190\n",
       "2020-03-03  2.840586  0.816378 -2.365882 -2.052783\n",
       "2020-03-04  3.497094  1.710275 -4.866969 -2.817931\n",
       "2020-03-05  2.967099  1.234785 -5.339727 -1.850702\n",
       "2020-03-06  2.593663  2.017778 -4.861341 -1.248666\n",
       "2020-03-07  4.474897  1.681090 -4.951623 -1.400828\n",
       "2020-03-08  4.075426  2.397867 -5.786499 -1.932802\n",
       "2020-03-09  3.927368  3.244718 -5.984532 -1.714656\n",
       "2020-03-10  4.219309  3.130098 -5.961096 -0.196611"
      ]
     },
     "execution_count": 94,
     "metadata": {},
     "output_type": "execute_result"
    }
   ],
   "source": [
    "df1.apply(np.cumsum)"
   ]
  },
  {
   "cell_type": "code",
   "execution_count": 95,
   "metadata": {},
   "outputs": [
    {
     "data": {
      "text/plain": [
       "A    3.208945\n",
       "B    2.358225\n",
       "C    2.979472\n",
       "D    2.893362\n",
       "dtype: float64"
      ]
     },
     "execution_count": 95,
     "metadata": {},
     "output_type": "execute_result"
    }
   ],
   "source": [
    "df1.apply(lambda x : x.max() - x.min())"
   ]
  },
  {
   "cell_type": "code",
   "execution_count": 96,
   "metadata": {},
   "outputs": [
    {
     "data": {
      "text/plain": [
       "7.0    1\n",
       "6.0    1\n",
       "5.0    1\n",
       "4.0    1\n",
       "3.0    1\n",
       "2.0    1\n",
       "1.0    1\n",
       "dtype: int64"
      ]
     },
     "execution_count": 96,
     "metadata": {},
     "output_type": "execute_result"
    }
   ],
   "source": [
    "s.value_counts()"
   ]
  },
  {
   "cell_type": "code",
   "execution_count": 97,
   "metadata": {},
   "outputs": [],
   "source": [
    "s = pd.Series(['lalith','aditya',np.nan])"
   ]
  },
  {
   "cell_type": "code",
   "execution_count": 99,
   "metadata": {},
   "outputs": [
    {
     "data": {
      "text/plain": [
       "0    lalith\n",
       "1    aditya\n",
       "2       NaN\n",
       "dtype: object"
      ]
     },
     "execution_count": 99,
     "metadata": {},
     "output_type": "execute_result"
    }
   ],
   "source": [
    "s"
   ]
  },
  {
   "cell_type": "code",
   "execution_count": 102,
   "metadata": {},
   "outputs": [
    {
     "data": {
      "text/plain": [
       "0    lalith\n",
       "1    aditya\n",
       "2       NaN\n",
       "dtype: object"
      ]
     },
     "execution_count": 102,
     "metadata": {},
     "output_type": "execute_result"
    }
   ],
   "source": [
    "s.str.lower()"
   ]
  },
  {
   "cell_type": "code",
   "execution_count": 103,
   "metadata": {},
   "outputs": [
    {
     "data": {
      "text/plain": [
       "0    LALITH\n",
       "1    ADITYA\n",
       "2       NaN\n",
       "dtype: object"
      ]
     },
     "execution_count": 103,
     "metadata": {},
     "output_type": "execute_result"
    }
   ],
   "source": [
    "s.str.upper()"
   ]
  },
  {
   "cell_type": "code",
   "execution_count": 104,
   "metadata": {},
   "outputs": [],
   "source": [
    "df = pd.DataFrame(np.random.rand(10,4))"
   ]
  },
  {
   "cell_type": "code",
   "execution_count": 106,
   "metadata": {},
   "outputs": [
    {
     "data": {
      "text/html": [
       "<div>\n",
       "<style scoped>\n",
       "    .dataframe tbody tr th:only-of-type {\n",
       "        vertical-align: middle;\n",
       "    }\n",
       "\n",
       "    .dataframe tbody tr th {\n",
       "        vertical-align: top;\n",
       "    }\n",
       "\n",
       "    .dataframe thead th {\n",
       "        text-align: right;\n",
       "    }\n",
       "</style>\n",
       "<table border=\"1\" class=\"dataframe\">\n",
       "  <thead>\n",
       "    <tr style=\"text-align: right;\">\n",
       "      <th></th>\n",
       "      <th>0</th>\n",
       "      <th>1</th>\n",
       "      <th>2</th>\n",
       "      <th>3</th>\n",
       "    </tr>\n",
       "  </thead>\n",
       "  <tbody>\n",
       "    <tr>\n",
       "      <td>0</td>\n",
       "      <td>0.953744</td>\n",
       "      <td>0.644861</td>\n",
       "      <td>0.380007</td>\n",
       "      <td>0.931675</td>\n",
       "    </tr>\n",
       "    <tr>\n",
       "      <td>1</td>\n",
       "      <td>0.818739</td>\n",
       "      <td>0.337235</td>\n",
       "      <td>0.480084</td>\n",
       "      <td>0.642368</td>\n",
       "    </tr>\n",
       "    <tr>\n",
       "      <td>2</td>\n",
       "      <td>0.176747</td>\n",
       "      <td>0.442593</td>\n",
       "      <td>0.355200</td>\n",
       "      <td>0.064590</td>\n",
       "    </tr>\n",
       "    <tr>\n",
       "      <td>3</td>\n",
       "      <td>0.164979</td>\n",
       "      <td>0.053525</td>\n",
       "      <td>0.183494</td>\n",
       "      <td>0.657812</td>\n",
       "    </tr>\n",
       "    <tr>\n",
       "      <td>4</td>\n",
       "      <td>0.834232</td>\n",
       "      <td>0.893039</td>\n",
       "      <td>0.184468</td>\n",
       "      <td>0.132005</td>\n",
       "    </tr>\n",
       "    <tr>\n",
       "      <td>5</td>\n",
       "      <td>0.245015</td>\n",
       "      <td>0.670676</td>\n",
       "      <td>0.002710</td>\n",
       "      <td>0.455529</td>\n",
       "    </tr>\n",
       "    <tr>\n",
       "      <td>6</td>\n",
       "      <td>0.931976</td>\n",
       "      <td>0.457367</td>\n",
       "      <td>0.904393</td>\n",
       "      <td>0.470956</td>\n",
       "    </tr>\n",
       "    <tr>\n",
       "      <td>7</td>\n",
       "      <td>0.131592</td>\n",
       "      <td>0.768339</td>\n",
       "      <td>0.545740</td>\n",
       "      <td>0.087458</td>\n",
       "    </tr>\n",
       "    <tr>\n",
       "      <td>8</td>\n",
       "      <td>0.669004</td>\n",
       "      <td>0.400952</td>\n",
       "      <td>0.770581</td>\n",
       "      <td>0.493347</td>\n",
       "    </tr>\n",
       "    <tr>\n",
       "      <td>9</td>\n",
       "      <td>0.453627</td>\n",
       "      <td>0.490916</td>\n",
       "      <td>0.687716</td>\n",
       "      <td>0.516876</td>\n",
       "    </tr>\n",
       "  </tbody>\n",
       "</table>\n",
       "</div>"
      ],
      "text/plain": [
       "          0         1         2         3\n",
       "0  0.953744  0.644861  0.380007  0.931675\n",
       "1  0.818739  0.337235  0.480084  0.642368\n",
       "2  0.176747  0.442593  0.355200  0.064590\n",
       "3  0.164979  0.053525  0.183494  0.657812\n",
       "4  0.834232  0.893039  0.184468  0.132005\n",
       "5  0.245015  0.670676  0.002710  0.455529\n",
       "6  0.931976  0.457367  0.904393  0.470956\n",
       "7  0.131592  0.768339  0.545740  0.087458\n",
       "8  0.669004  0.400952  0.770581  0.493347\n",
       "9  0.453627  0.490916  0.687716  0.516876"
      ]
     },
     "execution_count": 106,
     "metadata": {},
     "output_type": "execute_result"
    }
   ],
   "source": [
    "df"
   ]
  },
  {
   "cell_type": "code",
   "execution_count": 107,
   "metadata": {},
   "outputs": [],
   "source": [
    "df1 = [df[:3],df[3:7],df[7:]]"
   ]
  },
  {
   "cell_type": "code",
   "execution_count": 109,
   "metadata": {},
   "outputs": [
    {
     "data": {
      "text/plain": [
       "[          0         1         2         3\n",
       " 0  0.953744  0.644861  0.380007  0.931675\n",
       " 1  0.818739  0.337235  0.480084  0.642368\n",
       " 2  0.176747  0.442593  0.355200  0.064590,\n",
       "           0         1         2         3\n",
       " 3  0.164979  0.053525  0.183494  0.657812\n",
       " 4  0.834232  0.893039  0.184468  0.132005\n",
       " 5  0.245015  0.670676  0.002710  0.455529\n",
       " 6  0.931976  0.457367  0.904393  0.470956,\n",
       "           0         1         2         3\n",
       " 7  0.131592  0.768339  0.545740  0.087458\n",
       " 8  0.669004  0.400952  0.770581  0.493347\n",
       " 9  0.453627  0.490916  0.687716  0.516876]"
      ]
     },
     "execution_count": 109,
     "metadata": {},
     "output_type": "execute_result"
    }
   ],
   "source": [
    "df1"
   ]
  },
  {
   "cell_type": "code",
   "execution_count": 111,
   "metadata": {},
   "outputs": [
    {
     "data": {
      "text/html": [
       "<div>\n",
       "<style scoped>\n",
       "    .dataframe tbody tr th:only-of-type {\n",
       "        vertical-align: middle;\n",
       "    }\n",
       "\n",
       "    .dataframe tbody tr th {\n",
       "        vertical-align: top;\n",
       "    }\n",
       "\n",
       "    .dataframe thead th {\n",
       "        text-align: right;\n",
       "    }\n",
       "</style>\n",
       "<table border=\"1\" class=\"dataframe\">\n",
       "  <thead>\n",
       "    <tr style=\"text-align: right;\">\n",
       "      <th></th>\n",
       "      <th>0</th>\n",
       "      <th>1</th>\n",
       "      <th>2</th>\n",
       "      <th>3</th>\n",
       "    </tr>\n",
       "  </thead>\n",
       "  <tbody>\n",
       "    <tr>\n",
       "      <td>0</td>\n",
       "      <td>0.953744</td>\n",
       "      <td>0.644861</td>\n",
       "      <td>0.380007</td>\n",
       "      <td>0.931675</td>\n",
       "    </tr>\n",
       "    <tr>\n",
       "      <td>1</td>\n",
       "      <td>0.818739</td>\n",
       "      <td>0.337235</td>\n",
       "      <td>0.480084</td>\n",
       "      <td>0.642368</td>\n",
       "    </tr>\n",
       "    <tr>\n",
       "      <td>2</td>\n",
       "      <td>0.176747</td>\n",
       "      <td>0.442593</td>\n",
       "      <td>0.355200</td>\n",
       "      <td>0.064590</td>\n",
       "    </tr>\n",
       "    <tr>\n",
       "      <td>3</td>\n",
       "      <td>0.164979</td>\n",
       "      <td>0.053525</td>\n",
       "      <td>0.183494</td>\n",
       "      <td>0.657812</td>\n",
       "    </tr>\n",
       "    <tr>\n",
       "      <td>4</td>\n",
       "      <td>0.834232</td>\n",
       "      <td>0.893039</td>\n",
       "      <td>0.184468</td>\n",
       "      <td>0.132005</td>\n",
       "    </tr>\n",
       "    <tr>\n",
       "      <td>5</td>\n",
       "      <td>0.245015</td>\n",
       "      <td>0.670676</td>\n",
       "      <td>0.002710</td>\n",
       "      <td>0.455529</td>\n",
       "    </tr>\n",
       "    <tr>\n",
       "      <td>6</td>\n",
       "      <td>0.931976</td>\n",
       "      <td>0.457367</td>\n",
       "      <td>0.904393</td>\n",
       "      <td>0.470956</td>\n",
       "    </tr>\n",
       "    <tr>\n",
       "      <td>7</td>\n",
       "      <td>0.131592</td>\n",
       "      <td>0.768339</td>\n",
       "      <td>0.545740</td>\n",
       "      <td>0.087458</td>\n",
       "    </tr>\n",
       "    <tr>\n",
       "      <td>8</td>\n",
       "      <td>0.669004</td>\n",
       "      <td>0.400952</td>\n",
       "      <td>0.770581</td>\n",
       "      <td>0.493347</td>\n",
       "    </tr>\n",
       "    <tr>\n",
       "      <td>9</td>\n",
       "      <td>0.453627</td>\n",
       "      <td>0.490916</td>\n",
       "      <td>0.687716</td>\n",
       "      <td>0.516876</td>\n",
       "    </tr>\n",
       "  </tbody>\n",
       "</table>\n",
       "</div>"
      ],
      "text/plain": [
       "          0         1         2         3\n",
       "0  0.953744  0.644861  0.380007  0.931675\n",
       "1  0.818739  0.337235  0.480084  0.642368\n",
       "2  0.176747  0.442593  0.355200  0.064590\n",
       "3  0.164979  0.053525  0.183494  0.657812\n",
       "4  0.834232  0.893039  0.184468  0.132005\n",
       "5  0.245015  0.670676  0.002710  0.455529\n",
       "6  0.931976  0.457367  0.904393  0.470956\n",
       "7  0.131592  0.768339  0.545740  0.087458\n",
       "8  0.669004  0.400952  0.770581  0.493347\n",
       "9  0.453627  0.490916  0.687716  0.516876"
      ]
     },
     "execution_count": 111,
     "metadata": {},
     "output_type": "execute_result"
    }
   ],
   "source": [
    "pd.concat(df1)"
   ]
  },
  {
   "cell_type": "code",
   "execution_count": 112,
   "metadata": {},
   "outputs": [],
   "source": [
    "left = pd.DataFrame({'A':[1,2],'B':[3,4]})"
   ]
  },
  {
   "cell_type": "code",
   "execution_count": 123,
   "metadata": {},
   "outputs": [],
   "source": [
    "right = pd.DataFrame({'A':[3,2],'D':[7,8]})"
   ]
  },
  {
   "cell_type": "code",
   "execution_count": 126,
   "metadata": {},
   "outputs": [
    {
     "data": {
      "text/html": [
       "<div>\n",
       "<style scoped>\n",
       "    .dataframe tbody tr th:only-of-type {\n",
       "        vertical-align: middle;\n",
       "    }\n",
       "\n",
       "    .dataframe tbody tr th {\n",
       "        vertical-align: top;\n",
       "    }\n",
       "\n",
       "    .dataframe thead th {\n",
       "        text-align: right;\n",
       "    }\n",
       "</style>\n",
       "<table border=\"1\" class=\"dataframe\">\n",
       "  <thead>\n",
       "    <tr style=\"text-align: right;\">\n",
       "      <th></th>\n",
       "      <th>A</th>\n",
       "      <th>B</th>\n",
       "      <th>D</th>\n",
       "    </tr>\n",
       "  </thead>\n",
       "  <tbody>\n",
       "    <tr>\n",
       "      <td>0</td>\n",
       "      <td>2</td>\n",
       "      <td>4</td>\n",
       "      <td>8</td>\n",
       "    </tr>\n",
       "  </tbody>\n",
       "</table>\n",
       "</div>"
      ],
      "text/plain": [
       "   A  B  D\n",
       "0  2  4  8"
      ]
     },
     "execution_count": 126,
     "metadata": {},
     "output_type": "execute_result"
    }
   ],
   "source": [
    "pd.merge(left,right,on='A')"
   ]
  },
  {
   "cell_type": "code",
   "execution_count": 128,
   "metadata": {},
   "outputs": [
    {
     "data": {
      "text/html": [
       "<div>\n",
       "<style scoped>\n",
       "    .dataframe tbody tr th:only-of-type {\n",
       "        vertical-align: middle;\n",
       "    }\n",
       "\n",
       "    .dataframe tbody tr th {\n",
       "        vertical-align: top;\n",
       "    }\n",
       "\n",
       "    .dataframe thead th {\n",
       "        text-align: right;\n",
       "    }\n",
       "</style>\n",
       "<table border=\"1\" class=\"dataframe\">\n",
       "  <thead>\n",
       "    <tr style=\"text-align: right;\">\n",
       "      <th></th>\n",
       "      <th>0</th>\n",
       "      <th>1</th>\n",
       "      <th>2</th>\n",
       "      <th>3</th>\n",
       "    </tr>\n",
       "  </thead>\n",
       "  <tbody>\n",
       "    <tr>\n",
       "      <td>0</td>\n",
       "      <td>0.953744</td>\n",
       "      <td>0.644861</td>\n",
       "      <td>0.380007</td>\n",
       "      <td>0.931675</td>\n",
       "    </tr>\n",
       "    <tr>\n",
       "      <td>1</td>\n",
       "      <td>0.818739</td>\n",
       "      <td>0.337235</td>\n",
       "      <td>0.480084</td>\n",
       "      <td>0.642368</td>\n",
       "    </tr>\n",
       "    <tr>\n",
       "      <td>2</td>\n",
       "      <td>0.176747</td>\n",
       "      <td>0.442593</td>\n",
       "      <td>0.355200</td>\n",
       "      <td>0.064590</td>\n",
       "    </tr>\n",
       "    <tr>\n",
       "      <td>3</td>\n",
       "      <td>0.164979</td>\n",
       "      <td>0.053525</td>\n",
       "      <td>0.183494</td>\n",
       "      <td>0.657812</td>\n",
       "    </tr>\n",
       "    <tr>\n",
       "      <td>4</td>\n",
       "      <td>0.834232</td>\n",
       "      <td>0.893039</td>\n",
       "      <td>0.184468</td>\n",
       "      <td>0.132005</td>\n",
       "    </tr>\n",
       "    <tr>\n",
       "      <td>5</td>\n",
       "      <td>0.245015</td>\n",
       "      <td>0.670676</td>\n",
       "      <td>0.002710</td>\n",
       "      <td>0.455529</td>\n",
       "    </tr>\n",
       "    <tr>\n",
       "      <td>6</td>\n",
       "      <td>0.931976</td>\n",
       "      <td>0.457367</td>\n",
       "      <td>0.904393</td>\n",
       "      <td>0.470956</td>\n",
       "    </tr>\n",
       "    <tr>\n",
       "      <td>7</td>\n",
       "      <td>0.131592</td>\n",
       "      <td>0.768339</td>\n",
       "      <td>0.545740</td>\n",
       "      <td>0.087458</td>\n",
       "    </tr>\n",
       "    <tr>\n",
       "      <td>8</td>\n",
       "      <td>0.669004</td>\n",
       "      <td>0.400952</td>\n",
       "      <td>0.770581</td>\n",
       "      <td>0.493347</td>\n",
       "    </tr>\n",
       "    <tr>\n",
       "      <td>9</td>\n",
       "      <td>0.453627</td>\n",
       "      <td>0.490916</td>\n",
       "      <td>0.687716</td>\n",
       "      <td>0.516876</td>\n",
       "    </tr>\n",
       "  </tbody>\n",
       "</table>\n",
       "</div>"
      ],
      "text/plain": [
       "          0         1         2         3\n",
       "0  0.953744  0.644861  0.380007  0.931675\n",
       "1  0.818739  0.337235  0.480084  0.642368\n",
       "2  0.176747  0.442593  0.355200  0.064590\n",
       "3  0.164979  0.053525  0.183494  0.657812\n",
       "4  0.834232  0.893039  0.184468  0.132005\n",
       "5  0.245015  0.670676  0.002710  0.455529\n",
       "6  0.931976  0.457367  0.904393  0.470956\n",
       "7  0.131592  0.768339  0.545740  0.087458\n",
       "8  0.669004  0.400952  0.770581  0.493347\n",
       "9  0.453627  0.490916  0.687716  0.516876"
      ]
     },
     "execution_count": 128,
     "metadata": {},
     "output_type": "execute_result"
    }
   ],
   "source": [
    "df"
   ]
  },
  {
   "cell_type": "code",
   "execution_count": 129,
   "metadata": {},
   "outputs": [
    {
     "data": {
      "text/html": [
       "<div>\n",
       "<style scoped>\n",
       "    .dataframe tbody tr th:only-of-type {\n",
       "        vertical-align: middle;\n",
       "    }\n",
       "\n",
       "    .dataframe tbody tr th {\n",
       "        vertical-align: top;\n",
       "    }\n",
       "\n",
       "    .dataframe thead th {\n",
       "        text-align: right;\n",
       "    }\n",
       "</style>\n",
       "<table border=\"1\" class=\"dataframe\">\n",
       "  <thead>\n",
       "    <tr style=\"text-align: right;\">\n",
       "      <th></th>\n",
       "      <th>0</th>\n",
       "      <th>2</th>\n",
       "      <th>3</th>\n",
       "    </tr>\n",
       "    <tr>\n",
       "      <th>1</th>\n",
       "      <th></th>\n",
       "      <th></th>\n",
       "      <th></th>\n",
       "    </tr>\n",
       "  </thead>\n",
       "  <tbody>\n",
       "    <tr>\n",
       "      <td>0.053525</td>\n",
       "      <td>0.164979</td>\n",
       "      <td>0.183494</td>\n",
       "      <td>0.657812</td>\n",
       "    </tr>\n",
       "    <tr>\n",
       "      <td>0.337235</td>\n",
       "      <td>0.818739</td>\n",
       "      <td>0.480084</td>\n",
       "      <td>0.642368</td>\n",
       "    </tr>\n",
       "    <tr>\n",
       "      <td>0.400952</td>\n",
       "      <td>0.669004</td>\n",
       "      <td>0.770581</td>\n",
       "      <td>0.493347</td>\n",
       "    </tr>\n",
       "    <tr>\n",
       "      <td>0.442593</td>\n",
       "      <td>0.176747</td>\n",
       "      <td>0.355200</td>\n",
       "      <td>0.064590</td>\n",
       "    </tr>\n",
       "    <tr>\n",
       "      <td>0.457367</td>\n",
       "      <td>0.931976</td>\n",
       "      <td>0.904393</td>\n",
       "      <td>0.470956</td>\n",
       "    </tr>\n",
       "    <tr>\n",
       "      <td>0.490916</td>\n",
       "      <td>0.453627</td>\n",
       "      <td>0.687716</td>\n",
       "      <td>0.516876</td>\n",
       "    </tr>\n",
       "    <tr>\n",
       "      <td>0.644861</td>\n",
       "      <td>0.953744</td>\n",
       "      <td>0.380007</td>\n",
       "      <td>0.931675</td>\n",
       "    </tr>\n",
       "    <tr>\n",
       "      <td>0.670676</td>\n",
       "      <td>0.245015</td>\n",
       "      <td>0.002710</td>\n",
       "      <td>0.455529</td>\n",
       "    </tr>\n",
       "    <tr>\n",
       "      <td>0.768339</td>\n",
       "      <td>0.131592</td>\n",
       "      <td>0.545740</td>\n",
       "      <td>0.087458</td>\n",
       "    </tr>\n",
       "    <tr>\n",
       "      <td>0.893039</td>\n",
       "      <td>0.834232</td>\n",
       "      <td>0.184468</td>\n",
       "      <td>0.132005</td>\n",
       "    </tr>\n",
       "  </tbody>\n",
       "</table>\n",
       "</div>"
      ],
      "text/plain": [
       "                 0         2         3\n",
       "1                                     \n",
       "0.053525  0.164979  0.183494  0.657812\n",
       "0.337235  0.818739  0.480084  0.642368\n",
       "0.400952  0.669004  0.770581  0.493347\n",
       "0.442593  0.176747  0.355200  0.064590\n",
       "0.457367  0.931976  0.904393  0.470956\n",
       "0.490916  0.453627  0.687716  0.516876\n",
       "0.644861  0.953744  0.380007  0.931675\n",
       "0.670676  0.245015  0.002710  0.455529\n",
       "0.768339  0.131592  0.545740  0.087458\n",
       "0.893039  0.834232  0.184468  0.132005"
      ]
     },
     "execution_count": 129,
     "metadata": {},
     "output_type": "execute_result"
    }
   ],
   "source": [
    "df.groupby(1).sum()"
   ]
  },
  {
   "cell_type": "code",
   "execution_count": 130,
   "metadata": {},
   "outputs": [
    {
     "data": {
      "text/html": [
       "<div>\n",
       "<style scoped>\n",
       "    .dataframe tbody tr th:only-of-type {\n",
       "        vertical-align: middle;\n",
       "    }\n",
       "\n",
       "    .dataframe tbody tr th {\n",
       "        vertical-align: top;\n",
       "    }\n",
       "\n",
       "    .dataframe thead th {\n",
       "        text-align: right;\n",
       "    }\n",
       "</style>\n",
       "<table border=\"1\" class=\"dataframe\">\n",
       "  <thead>\n",
       "    <tr style=\"text-align: right;\">\n",
       "      <th></th>\n",
       "      <th></th>\n",
       "      <th>0</th>\n",
       "      <th>3</th>\n",
       "    </tr>\n",
       "    <tr>\n",
       "      <th>1</th>\n",
       "      <th>2</th>\n",
       "      <th></th>\n",
       "      <th></th>\n",
       "    </tr>\n",
       "  </thead>\n",
       "  <tbody>\n",
       "    <tr>\n",
       "      <td>0.053525</td>\n",
       "      <td>0.183494</td>\n",
       "      <td>0.164979</td>\n",
       "      <td>0.657812</td>\n",
       "    </tr>\n",
       "    <tr>\n",
       "      <td>0.337235</td>\n",
       "      <td>0.480084</td>\n",
       "      <td>0.818739</td>\n",
       "      <td>0.642368</td>\n",
       "    </tr>\n",
       "    <tr>\n",
       "      <td>0.400952</td>\n",
       "      <td>0.770581</td>\n",
       "      <td>0.669004</td>\n",
       "      <td>0.493347</td>\n",
       "    </tr>\n",
       "    <tr>\n",
       "      <td>0.442593</td>\n",
       "      <td>0.355200</td>\n",
       "      <td>0.176747</td>\n",
       "      <td>0.064590</td>\n",
       "    </tr>\n",
       "    <tr>\n",
       "      <td>0.457367</td>\n",
       "      <td>0.904393</td>\n",
       "      <td>0.931976</td>\n",
       "      <td>0.470956</td>\n",
       "    </tr>\n",
       "    <tr>\n",
       "      <td>0.490916</td>\n",
       "      <td>0.687716</td>\n",
       "      <td>0.453627</td>\n",
       "      <td>0.516876</td>\n",
       "    </tr>\n",
       "    <tr>\n",
       "      <td>0.644861</td>\n",
       "      <td>0.380007</td>\n",
       "      <td>0.953744</td>\n",
       "      <td>0.931675</td>\n",
       "    </tr>\n",
       "    <tr>\n",
       "      <td>0.670676</td>\n",
       "      <td>0.002710</td>\n",
       "      <td>0.245015</td>\n",
       "      <td>0.455529</td>\n",
       "    </tr>\n",
       "    <tr>\n",
       "      <td>0.768339</td>\n",
       "      <td>0.545740</td>\n",
       "      <td>0.131592</td>\n",
       "      <td>0.087458</td>\n",
       "    </tr>\n",
       "    <tr>\n",
       "      <td>0.893039</td>\n",
       "      <td>0.184468</td>\n",
       "      <td>0.834232</td>\n",
       "      <td>0.132005</td>\n",
       "    </tr>\n",
       "  </tbody>\n",
       "</table>\n",
       "</div>"
      ],
      "text/plain": [
       "                          0         3\n",
       "1        2                           \n",
       "0.053525 0.183494  0.164979  0.657812\n",
       "0.337235 0.480084  0.818739  0.642368\n",
       "0.400952 0.770581  0.669004  0.493347\n",
       "0.442593 0.355200  0.176747  0.064590\n",
       "0.457367 0.904393  0.931976  0.470956\n",
       "0.490916 0.687716  0.453627  0.516876\n",
       "0.644861 0.380007  0.953744  0.931675\n",
       "0.670676 0.002710  0.245015  0.455529\n",
       "0.768339 0.545740  0.131592  0.087458\n",
       "0.893039 0.184468  0.834232  0.132005"
      ]
     },
     "execution_count": 130,
     "metadata": {},
     "output_type": "execute_result"
    }
   ],
   "source": [
    "df.groupby([1,2]).sum()"
   ]
  },
  {
   "cell_type": "code",
   "execution_count": 131,
   "metadata": {},
   "outputs": [],
   "source": [
    "my_tuple = list(zip(*[[2,3,4,5,6,7,8,9],[10,11,13,14,15,16,17,18,19]]))"
   ]
  },
  {
   "cell_type": "code",
   "execution_count": 133,
   "metadata": {},
   "outputs": [
    {
     "data": {
      "text/plain": [
       "[(2, 10), (3, 11), (4, 13), (5, 14), (6, 15), (7, 16), (8, 17), (9, 18)]"
      ]
     },
     "execution_count": 133,
     "metadata": {},
     "output_type": "execute_result"
    }
   ],
   "source": [
    "my_tuple"
   ]
  },
  {
   "cell_type": "code",
   "execution_count": 134,
   "metadata": {},
   "outputs": [],
   "source": [
    "index = pd.MultiIndex.from_tuples(my_tuple,names=['First','Second'])"
   ]
  },
  {
   "cell_type": "code",
   "execution_count": 136,
   "metadata": {},
   "outputs": [
    {
     "data": {
      "text/plain": [
       "MultiIndex([(2, 10),\n",
       "            (3, 11),\n",
       "            (4, 13),\n",
       "            (5, 14),\n",
       "            (6, 15),\n",
       "            (7, 16),\n",
       "            (8, 17),\n",
       "            (9, 18)],\n",
       "           names=['First', 'Second'])"
      ]
     },
     "execution_count": 136,
     "metadata": {},
     "output_type": "execute_result"
    }
   ],
   "source": [
    "index"
   ]
  },
  {
   "cell_type": "code",
   "execution_count": 138,
   "metadata": {},
   "outputs": [],
   "source": [
    "df = pd.DataFrame(np.random.rand(8,2),index = index,columns=['A','B'])"
   ]
  },
  {
   "cell_type": "code",
   "execution_count": 140,
   "metadata": {},
   "outputs": [
    {
     "data": {
      "text/html": [
       "<div>\n",
       "<style scoped>\n",
       "    .dataframe tbody tr th:only-of-type {\n",
       "        vertical-align: middle;\n",
       "    }\n",
       "\n",
       "    .dataframe tbody tr th {\n",
       "        vertical-align: top;\n",
       "    }\n",
       "\n",
       "    .dataframe thead th {\n",
       "        text-align: right;\n",
       "    }\n",
       "</style>\n",
       "<table border=\"1\" class=\"dataframe\">\n",
       "  <thead>\n",
       "    <tr style=\"text-align: right;\">\n",
       "      <th></th>\n",
       "      <th></th>\n",
       "      <th>A</th>\n",
       "      <th>B</th>\n",
       "    </tr>\n",
       "    <tr>\n",
       "      <th>First</th>\n",
       "      <th>Second</th>\n",
       "      <th></th>\n",
       "      <th></th>\n",
       "    </tr>\n",
       "  </thead>\n",
       "  <tbody>\n",
       "    <tr>\n",
       "      <td>2</td>\n",
       "      <td>10</td>\n",
       "      <td>0.840378</td>\n",
       "      <td>0.235954</td>\n",
       "    </tr>\n",
       "    <tr>\n",
       "      <td>3</td>\n",
       "      <td>11</td>\n",
       "      <td>0.922757</td>\n",
       "      <td>0.282305</td>\n",
       "    </tr>\n",
       "    <tr>\n",
       "      <td>4</td>\n",
       "      <td>13</td>\n",
       "      <td>0.908492</td>\n",
       "      <td>0.653557</td>\n",
       "    </tr>\n",
       "    <tr>\n",
       "      <td>5</td>\n",
       "      <td>14</td>\n",
       "      <td>0.167452</td>\n",
       "      <td>0.921499</td>\n",
       "    </tr>\n",
       "    <tr>\n",
       "      <td>6</td>\n",
       "      <td>15</td>\n",
       "      <td>0.031130</td>\n",
       "      <td>0.689164</td>\n",
       "    </tr>\n",
       "    <tr>\n",
       "      <td>7</td>\n",
       "      <td>16</td>\n",
       "      <td>0.990845</td>\n",
       "      <td>0.006665</td>\n",
       "    </tr>\n",
       "    <tr>\n",
       "      <td>8</td>\n",
       "      <td>17</td>\n",
       "      <td>0.581646</td>\n",
       "      <td>0.659122</td>\n",
       "    </tr>\n",
       "    <tr>\n",
       "      <td>9</td>\n",
       "      <td>18</td>\n",
       "      <td>0.731274</td>\n",
       "      <td>0.787887</td>\n",
       "    </tr>\n",
       "  </tbody>\n",
       "</table>\n",
       "</div>"
      ],
      "text/plain": [
       "                     A         B\n",
       "First Second                    \n",
       "2     10      0.840378  0.235954\n",
       "3     11      0.922757  0.282305\n",
       "4     13      0.908492  0.653557\n",
       "5     14      0.167452  0.921499\n",
       "6     15      0.031130  0.689164\n",
       "7     16      0.990845  0.006665\n",
       "8     17      0.581646  0.659122\n",
       "9     18      0.731274  0.787887"
      ]
     },
     "execution_count": 140,
     "metadata": {},
     "output_type": "execute_result"
    }
   ],
   "source": [
    "df"
   ]
  },
  {
   "cell_type": "code",
   "execution_count": 142,
   "metadata": {},
   "outputs": [],
   "source": [
    "df1 = df[:3]"
   ]
  },
  {
   "cell_type": "code",
   "execution_count": 144,
   "metadata": {},
   "outputs": [
    {
     "data": {
      "text/html": [
       "<div>\n",
       "<style scoped>\n",
       "    .dataframe tbody tr th:only-of-type {\n",
       "        vertical-align: middle;\n",
       "    }\n",
       "\n",
       "    .dataframe tbody tr th {\n",
       "        vertical-align: top;\n",
       "    }\n",
       "\n",
       "    .dataframe thead th {\n",
       "        text-align: right;\n",
       "    }\n",
       "</style>\n",
       "<table border=\"1\" class=\"dataframe\">\n",
       "  <thead>\n",
       "    <tr style=\"text-align: right;\">\n",
       "      <th></th>\n",
       "      <th></th>\n",
       "      <th>A</th>\n",
       "      <th>B</th>\n",
       "    </tr>\n",
       "    <tr>\n",
       "      <th>First</th>\n",
       "      <th>Second</th>\n",
       "      <th></th>\n",
       "      <th></th>\n",
       "    </tr>\n",
       "  </thead>\n",
       "  <tbody>\n",
       "    <tr>\n",
       "      <td>2</td>\n",
       "      <td>10</td>\n",
       "      <td>0.840378</td>\n",
       "      <td>0.235954</td>\n",
       "    </tr>\n",
       "    <tr>\n",
       "      <td>3</td>\n",
       "      <td>11</td>\n",
       "      <td>0.922757</td>\n",
       "      <td>0.282305</td>\n",
       "    </tr>\n",
       "    <tr>\n",
       "      <td>4</td>\n",
       "      <td>13</td>\n",
       "      <td>0.908492</td>\n",
       "      <td>0.653557</td>\n",
       "    </tr>\n",
       "  </tbody>\n",
       "</table>\n",
       "</div>"
      ],
      "text/plain": [
       "                     A         B\n",
       "First Second                    \n",
       "2     10      0.840378  0.235954\n",
       "3     11      0.922757  0.282305\n",
       "4     13      0.908492  0.653557"
      ]
     },
     "execution_count": 144,
     "metadata": {},
     "output_type": "execute_result"
    }
   ],
   "source": [
    "df1"
   ]
  },
  {
   "cell_type": "code",
   "execution_count": 146,
   "metadata": {},
   "outputs": [
    {
     "data": {
      "text/plain": [
       "First  Second   \n",
       "2      10      A    0.840378\n",
       "               B    0.235954\n",
       "3      11      A    0.922757\n",
       "               B    0.282305\n",
       "4      13      A    0.908492\n",
       "               B    0.653557\n",
       "dtype: float64"
      ]
     },
     "execution_count": 146,
     "metadata": {},
     "output_type": "execute_result"
    }
   ],
   "source": [
    "df1.stack()"
   ]
  },
  {
   "cell_type": "code",
   "execution_count": 148,
   "metadata": {},
   "outputs": [
    {
     "data": {
      "text/html": [
       "<div>\n",
       "<style scoped>\n",
       "    .dataframe tbody tr th:only-of-type {\n",
       "        vertical-align: middle;\n",
       "    }\n",
       "\n",
       "    .dataframe tbody tr th {\n",
       "        vertical-align: top;\n",
       "    }\n",
       "\n",
       "    .dataframe thead tr th {\n",
       "        text-align: left;\n",
       "    }\n",
       "\n",
       "    .dataframe thead tr:last-of-type th {\n",
       "        text-align: right;\n",
       "    }\n",
       "</style>\n",
       "<table border=\"1\" class=\"dataframe\">\n",
       "  <thead>\n",
       "    <tr>\n",
       "      <th></th>\n",
       "      <th colspan=\"3\" halign=\"left\">A</th>\n",
       "      <th colspan=\"3\" halign=\"left\">B</th>\n",
       "    </tr>\n",
       "    <tr>\n",
       "      <th>Second</th>\n",
       "      <th>10</th>\n",
       "      <th>11</th>\n",
       "      <th>13</th>\n",
       "      <th>10</th>\n",
       "      <th>11</th>\n",
       "      <th>13</th>\n",
       "    </tr>\n",
       "    <tr>\n",
       "      <th>First</th>\n",
       "      <th></th>\n",
       "      <th></th>\n",
       "      <th></th>\n",
       "      <th></th>\n",
       "      <th></th>\n",
       "      <th></th>\n",
       "    </tr>\n",
       "  </thead>\n",
       "  <tbody>\n",
       "    <tr>\n",
       "      <td>2</td>\n",
       "      <td>0.840378</td>\n",
       "      <td>NaN</td>\n",
       "      <td>NaN</td>\n",
       "      <td>0.235954</td>\n",
       "      <td>NaN</td>\n",
       "      <td>NaN</td>\n",
       "    </tr>\n",
       "    <tr>\n",
       "      <td>3</td>\n",
       "      <td>NaN</td>\n",
       "      <td>0.922757</td>\n",
       "      <td>NaN</td>\n",
       "      <td>NaN</td>\n",
       "      <td>0.282305</td>\n",
       "      <td>NaN</td>\n",
       "    </tr>\n",
       "    <tr>\n",
       "      <td>4</td>\n",
       "      <td>NaN</td>\n",
       "      <td>NaN</td>\n",
       "      <td>0.908492</td>\n",
       "      <td>NaN</td>\n",
       "      <td>NaN</td>\n",
       "      <td>0.653557</td>\n",
       "    </tr>\n",
       "  </tbody>\n",
       "</table>\n",
       "</div>"
      ],
      "text/plain": [
       "               A                             B                    \n",
       "Second        10        11        13        10        11        13\n",
       "First                                                             \n",
       "2       0.840378       NaN       NaN  0.235954       NaN       NaN\n",
       "3            NaN  0.922757       NaN       NaN  0.282305       NaN\n",
       "4            NaN       NaN  0.908492       NaN       NaN  0.653557"
      ]
     },
     "execution_count": 148,
     "metadata": {},
     "output_type": "execute_result"
    }
   ],
   "source": [
    "df1.unstack()"
   ]
  },
  {
   "cell_type": "code",
   "execution_count": 149,
   "metadata": {},
   "outputs": [],
   "source": [
    "df = pd.DataFrame({'A':['a','b','c','d']*3,\n",
    "                  'B':['A','B','C']*4,\n",
    "                   'C':['P','P','P','Q','Q','Q']*2,\n",
    "                   'D': np.random.randn(12),\n",
    "                   'E':np.random.randn(12)\n",
    "                  })"
   ]
  },
  {
   "cell_type": "code",
   "execution_count": 151,
   "metadata": {},
   "outputs": [
    {
     "data": {
      "text/html": [
       "<div>\n",
       "<style scoped>\n",
       "    .dataframe tbody tr th:only-of-type {\n",
       "        vertical-align: middle;\n",
       "    }\n",
       "\n",
       "    .dataframe tbody tr th {\n",
       "        vertical-align: top;\n",
       "    }\n",
       "\n",
       "    .dataframe thead th {\n",
       "        text-align: right;\n",
       "    }\n",
       "</style>\n",
       "<table border=\"1\" class=\"dataframe\">\n",
       "  <thead>\n",
       "    <tr style=\"text-align: right;\">\n",
       "      <th></th>\n",
       "      <th>A</th>\n",
       "      <th>B</th>\n",
       "      <th>C</th>\n",
       "      <th>D</th>\n",
       "      <th>E</th>\n",
       "    </tr>\n",
       "  </thead>\n",
       "  <tbody>\n",
       "    <tr>\n",
       "      <td>0</td>\n",
       "      <td>a</td>\n",
       "      <td>A</td>\n",
       "      <td>P</td>\n",
       "      <td>-0.694125</td>\n",
       "      <td>1.281478</td>\n",
       "    </tr>\n",
       "    <tr>\n",
       "      <td>1</td>\n",
       "      <td>b</td>\n",
       "      <td>B</td>\n",
       "      <td>P</td>\n",
       "      <td>0.625557</td>\n",
       "      <td>1.344287</td>\n",
       "    </tr>\n",
       "    <tr>\n",
       "      <td>2</td>\n",
       "      <td>c</td>\n",
       "      <td>C</td>\n",
       "      <td>P</td>\n",
       "      <td>1.358302</td>\n",
       "      <td>-0.135809</td>\n",
       "    </tr>\n",
       "    <tr>\n",
       "      <td>3</td>\n",
       "      <td>d</td>\n",
       "      <td>A</td>\n",
       "      <td>Q</td>\n",
       "      <td>0.103516</td>\n",
       "      <td>0.042695</td>\n",
       "    </tr>\n",
       "    <tr>\n",
       "      <td>4</td>\n",
       "      <td>a</td>\n",
       "      <td>B</td>\n",
       "      <td>Q</td>\n",
       "      <td>0.441864</td>\n",
       "      <td>1.745710</td>\n",
       "    </tr>\n",
       "    <tr>\n",
       "      <td>5</td>\n",
       "      <td>b</td>\n",
       "      <td>C</td>\n",
       "      <td>Q</td>\n",
       "      <td>-0.188879</td>\n",
       "      <td>-2.730555</td>\n",
       "    </tr>\n",
       "    <tr>\n",
       "      <td>6</td>\n",
       "      <td>c</td>\n",
       "      <td>A</td>\n",
       "      <td>P</td>\n",
       "      <td>0.331625</td>\n",
       "      <td>-0.867988</td>\n",
       "    </tr>\n",
       "    <tr>\n",
       "      <td>7</td>\n",
       "      <td>d</td>\n",
       "      <td>B</td>\n",
       "      <td>P</td>\n",
       "      <td>2.057879</td>\n",
       "      <td>-0.208820</td>\n",
       "    </tr>\n",
       "    <tr>\n",
       "      <td>8</td>\n",
       "      <td>a</td>\n",
       "      <td>C</td>\n",
       "      <td>P</td>\n",
       "      <td>-1.261861</td>\n",
       "      <td>0.980411</td>\n",
       "    </tr>\n",
       "    <tr>\n",
       "      <td>9</td>\n",
       "      <td>b</td>\n",
       "      <td>A</td>\n",
       "      <td>Q</td>\n",
       "      <td>-0.064680</td>\n",
       "      <td>0.942102</td>\n",
       "    </tr>\n",
       "    <tr>\n",
       "      <td>10</td>\n",
       "      <td>c</td>\n",
       "      <td>B</td>\n",
       "      <td>Q</td>\n",
       "      <td>0.768225</td>\n",
       "      <td>0.019323</td>\n",
       "    </tr>\n",
       "    <tr>\n",
       "      <td>11</td>\n",
       "      <td>d</td>\n",
       "      <td>C</td>\n",
       "      <td>Q</td>\n",
       "      <td>1.416085</td>\n",
       "      <td>-0.670456</td>\n",
       "    </tr>\n",
       "  </tbody>\n",
       "</table>\n",
       "</div>"
      ],
      "text/plain": [
       "    A  B  C         D         E\n",
       "0   a  A  P -0.694125  1.281478\n",
       "1   b  B  P  0.625557  1.344287\n",
       "2   c  C  P  1.358302 -0.135809\n",
       "3   d  A  Q  0.103516  0.042695\n",
       "4   a  B  Q  0.441864  1.745710\n",
       "5   b  C  Q -0.188879 -2.730555\n",
       "6   c  A  P  0.331625 -0.867988\n",
       "7   d  B  P  2.057879 -0.208820\n",
       "8   a  C  P -1.261861  0.980411\n",
       "9   b  A  Q -0.064680  0.942102\n",
       "10  c  B  Q  0.768225  0.019323\n",
       "11  d  C  Q  1.416085 -0.670456"
      ]
     },
     "execution_count": 151,
     "metadata": {},
     "output_type": "execute_result"
    }
   ],
   "source": [
    "df"
   ]
  },
  {
   "cell_type": "code",
   "execution_count": 152,
   "metadata": {},
   "outputs": [
    {
     "data": {
      "text/html": [
       "<div>\n",
       "<style scoped>\n",
       "    .dataframe tbody tr th:only-of-type {\n",
       "        vertical-align: middle;\n",
       "    }\n",
       "\n",
       "    .dataframe tbody tr th {\n",
       "        vertical-align: top;\n",
       "    }\n",
       "\n",
       "    .dataframe thead th {\n",
       "        text-align: right;\n",
       "    }\n",
       "</style>\n",
       "<table border=\"1\" class=\"dataframe\">\n",
       "  <thead>\n",
       "    <tr style=\"text-align: right;\">\n",
       "      <th></th>\n",
       "      <th>C</th>\n",
       "      <th>P</th>\n",
       "      <th>Q</th>\n",
       "    </tr>\n",
       "    <tr>\n",
       "      <th>A</th>\n",
       "      <th>B</th>\n",
       "      <th></th>\n",
       "      <th></th>\n",
       "    </tr>\n",
       "  </thead>\n",
       "  <tbody>\n",
       "    <tr>\n",
       "      <td rowspan=\"3\" valign=\"top\">a</td>\n",
       "      <td>A</td>\n",
       "      <td>-0.694125</td>\n",
       "      <td>NaN</td>\n",
       "    </tr>\n",
       "    <tr>\n",
       "      <td>B</td>\n",
       "      <td>NaN</td>\n",
       "      <td>0.441864</td>\n",
       "    </tr>\n",
       "    <tr>\n",
       "      <td>C</td>\n",
       "      <td>-1.261861</td>\n",
       "      <td>NaN</td>\n",
       "    </tr>\n",
       "    <tr>\n",
       "      <td rowspan=\"3\" valign=\"top\">b</td>\n",
       "      <td>A</td>\n",
       "      <td>NaN</td>\n",
       "      <td>-0.064680</td>\n",
       "    </tr>\n",
       "    <tr>\n",
       "      <td>B</td>\n",
       "      <td>0.625557</td>\n",
       "      <td>NaN</td>\n",
       "    </tr>\n",
       "    <tr>\n",
       "      <td>C</td>\n",
       "      <td>NaN</td>\n",
       "      <td>-0.188879</td>\n",
       "    </tr>\n",
       "    <tr>\n",
       "      <td rowspan=\"3\" valign=\"top\">c</td>\n",
       "      <td>A</td>\n",
       "      <td>0.331625</td>\n",
       "      <td>NaN</td>\n",
       "    </tr>\n",
       "    <tr>\n",
       "      <td>B</td>\n",
       "      <td>NaN</td>\n",
       "      <td>0.768225</td>\n",
       "    </tr>\n",
       "    <tr>\n",
       "      <td>C</td>\n",
       "      <td>1.358302</td>\n",
       "      <td>NaN</td>\n",
       "    </tr>\n",
       "    <tr>\n",
       "      <td rowspan=\"3\" valign=\"top\">d</td>\n",
       "      <td>A</td>\n",
       "      <td>NaN</td>\n",
       "      <td>0.103516</td>\n",
       "    </tr>\n",
       "    <tr>\n",
       "      <td>B</td>\n",
       "      <td>2.057879</td>\n",
       "      <td>NaN</td>\n",
       "    </tr>\n",
       "    <tr>\n",
       "      <td>C</td>\n",
       "      <td>NaN</td>\n",
       "      <td>1.416085</td>\n",
       "    </tr>\n",
       "  </tbody>\n",
       "</table>\n",
       "</div>"
      ],
      "text/plain": [
       "C           P         Q\n",
       "A B                    \n",
       "a A -0.694125       NaN\n",
       "  B       NaN  0.441864\n",
       "  C -1.261861       NaN\n",
       "b A       NaN -0.064680\n",
       "  B  0.625557       NaN\n",
       "  C       NaN -0.188879\n",
       "c A  0.331625       NaN\n",
       "  B       NaN  0.768225\n",
       "  C  1.358302       NaN\n",
       "d A       NaN  0.103516\n",
       "  B  2.057879       NaN\n",
       "  C       NaN  1.416085"
      ]
     },
     "execution_count": 152,
     "metadata": {},
     "output_type": "execute_result"
    }
   ],
   "source": [
    "pd.pivot_table(df,values='D',index=['A','B'],columns=['C'])"
   ]
  },
  {
   "cell_type": "code",
   "execution_count": 153,
   "metadata": {},
   "outputs": [],
   "source": [
    "dates = pd.date_range('20200807',periods=100,freq='S')"
   ]
  },
  {
   "cell_type": "code",
   "execution_count": 158,
   "metadata": {},
   "outputs": [],
   "source": [
    "ts = pd.Series(np.random.randint(0,500,len(dates)),index=dates)"
   ]
  },
  {
   "cell_type": "code",
   "execution_count": 160,
   "metadata": {},
   "outputs": [
    {
     "data": {
      "text/plain": [
       "2020-08-07 00:00:00    331\n",
       "2020-08-07 00:00:01    471\n",
       "2020-08-07 00:00:02    139\n",
       "2020-08-07 00:00:03    350\n",
       "2020-08-07 00:00:04     18\n",
       "                      ... \n",
       "2020-08-07 00:01:35    372\n",
       "2020-08-07 00:01:36    170\n",
       "2020-08-07 00:01:37    190\n",
       "2020-08-07 00:01:38    210\n",
       "2020-08-07 00:01:39    178\n",
       "Freq: S, Length: 100, dtype: int64"
      ]
     },
     "execution_count": 160,
     "metadata": {},
     "output_type": "execute_result"
    }
   ],
   "source": [
    "ts"
   ]
  },
  {
   "cell_type": "code",
   "execution_count": 161,
   "metadata": {},
   "outputs": [
    {
     "data": {
      "text/plain": [
       "2020-08-07    24538\n",
       "Freq: 5T, dtype: int64"
      ]
     },
     "execution_count": 161,
     "metadata": {},
     "output_type": "execute_result"
    }
   ],
   "source": [
    "ts.resample('5min').sum()"
   ]
  },
  {
   "cell_type": "code",
   "execution_count": 162,
   "metadata": {},
   "outputs": [],
   "source": [
    "dates = pd.date_range('20200807 00:00',periods=5,freq='S')"
   ]
  },
  {
   "cell_type": "code",
   "execution_count": 165,
   "metadata": {},
   "outputs": [],
   "source": [
    "ts = pd.Series(np.random.randn(len(dates)),dates)"
   ]
  },
  {
   "cell_type": "code",
   "execution_count": 167,
   "metadata": {},
   "outputs": [
    {
     "data": {
      "text/plain": [
       "2020-08-07 00:00:00   -0.500021\n",
       "2020-08-07 00:00:01    1.353424\n",
       "2020-08-07 00:00:02   -0.342186\n",
       "2020-08-07 00:00:03   -0.368370\n",
       "2020-08-07 00:00:04   -0.636729\n",
       "Freq: S, dtype: float64"
      ]
     },
     "execution_count": 167,
     "metadata": {},
     "output_type": "execute_result"
    }
   ],
   "source": [
    "ts"
   ]
  },
  {
   "cell_type": "code",
   "execution_count": 168,
   "metadata": {},
   "outputs": [],
   "source": [
    " ts_utc = ts.tz_localize('UTC')"
   ]
  },
  {
   "cell_type": "code",
   "execution_count": 170,
   "metadata": {},
   "outputs": [
    {
     "data": {
      "text/plain": [
       "2020-08-07 00:00:00+00:00   -0.500021\n",
       "2020-08-07 00:00:01+00:00    1.353424\n",
       "2020-08-07 00:00:02+00:00   -0.342186\n",
       "2020-08-07 00:00:03+00:00   -0.368370\n",
       "2020-08-07 00:00:04+00:00   -0.636729\n",
       "Freq: S, dtype: float64"
      ]
     },
     "execution_count": 170,
     "metadata": {},
     "output_type": "execute_result"
    }
   ],
   "source": [
    "ts_utc"
   ]
  },
  {
   "cell_type": "code",
   "execution_count": 176,
   "metadata": {},
   "outputs": [
    {
     "data": {
      "text/plain": [
       "2020-08-06 20:00:00-04:00   -0.500021\n",
       "2020-08-06 20:00:01-04:00    1.353424\n",
       "2020-08-06 20:00:02-04:00   -0.342186\n",
       "2020-08-06 20:00:03-04:00   -0.368370\n",
       "2020-08-06 20:00:04-04:00   -0.636729\n",
       "Freq: S, dtype: float64"
      ]
     },
     "execution_count": 176,
     "metadata": {},
     "output_type": "execute_result"
    }
   ],
   "source": [
    "ts_utc.tz_convert('US/Eastern')"
   ]
  },
  {
   "cell_type": "code",
   "execution_count": 177,
   "metadata": {},
   "outputs": [],
   "source": [
    "import matplotlib.pyplot as plt"
   ]
  },
  {
   "cell_type": "code",
   "execution_count": 178,
   "metadata": {},
   "outputs": [],
   "source": [
    "plt.close('all')"
   ]
  },
  {
   "cell_type": "code",
   "execution_count": 181,
   "metadata": {},
   "outputs": [],
   "source": [
    "ts = pd.Series(np.random.randn(500),index=pd.date_range('20200807',periods=500))"
   ]
  },
  {
   "cell_type": "code",
   "execution_count": 182,
   "metadata": {},
   "outputs": [],
   "source": [
    "ts = ts.cumsum()"
   ]
  },
  {
   "cell_type": "code",
   "execution_count": 183,
   "metadata": {},
   "outputs": [
    {
     "data": {
      "text/plain": [
       "<matplotlib.axes._subplots.AxesSubplot at 0x7f0e5cffd590>"
      ]
     },
     "execution_count": 183,
     "metadata": {},
     "output_type": "execute_result"
    },
    {
     "data": {
      "image/png": "[encoded data removed]",
      "text/plain": [
       "<Figure size 432x288 with 1 Axes>"
      ]
     },
     "metadata": {
      "needs_background": "light"
     },
     "output_type": "display_data"
    }
   ],
   "source": [
    "ts.plot()"
   ]
  },
  {
   "cell_type": "code",
   "execution_count": 184,
   "metadata": {
    "scrolled": true
   },
   "outputs": [
    {
     "name": "stderr",
     "output_type": "stream",
     "text": [
      "/home/ryuzaki/anaconda3/lib/python3.7/site-packages/ipykernel_launcher.py:1: FutureWarning: The signature of `Series.to_csv` was aligned to that of `DataFrame.to_csv`, and argument 'header' will change its default value from False to True: please pass an explicit value to suppress this warning.\n",
      "  \"\"\"Entry point for launching an IPython kernel.\n"
     ]
    }
   ],
   "source": [
    "ts.to_csv('ts.csv')"
   ]
  },
  {
   "cell_type": "code",
   "execution_count": 186,
   "metadata": {},
   "outputs": [
    {
     "data": {
      "text/plain": [
       "2020-08-07     0.187369\n",
       "2020-08-08     0.313158\n",
       "2020-08-09     0.795062\n",
       "2020-08-10     0.984792\n",
       "2020-08-11     1.103684\n",
       "                ...    \n",
       "2021-12-15    34.638805\n",
       "2021-12-16    34.430855\n",
       "2021-12-17    34.067024\n",
       "2021-12-18    31.976015\n",
       "2021-12-19    31.035897\n",
       "Freq: D, Length: 500, dtype: float64"
      ]
     },
     "execution_count": 186,
     "metadata": {},
     "output_type": "execute_result"
    }
   ],
   "source": [
    "ts"
   ]
  },
  {
   "cell_type": "code",
   "execution_count": 185,
   "metadata": {},
   "outputs": [
    {
     "data": {
      "text/html": [
       "<div>\n",
       "<style scoped>\n",
       "    .dataframe tbody tr th:only-of-type {\n",
       "        vertical-align: middle;\n",
       "    }\n",
       "\n",
       "    .dataframe tbody tr th {\n",
       "        vertical-align: top;\n",
       "    }\n",
       "\n",
       "    .dataframe thead th {\n",
       "        text-align: right;\n",
       "    }\n",
       "</style>\n",
       "<table border=\"1\" class=\"dataframe\">\n",
       "  <thead>\n",
       "    <tr style=\"text-align: right;\">\n",
       "      <th></th>\n",
       "      <th>2020-08-07</th>\n",
       "      <th>0.18736949720812413</th>\n",
       "    </tr>\n",
       "  </thead>\n",
       "  <tbody>\n",
       "    <tr>\n",
       "      <td>0</td>\n",
       "      <td>2020-08-08</td>\n",
       "      <td>0.313158</td>\n",
       "    </tr>\n",
       "    <tr>\n",
       "      <td>1</td>\n",
       "      <td>2020-08-09</td>\n",
       "      <td>0.795062</td>\n",
       "    </tr>\n",
       "    <tr>\n",
       "      <td>2</td>\n",
       "      <td>2020-08-10</td>\n",
       "      <td>0.984792</td>\n",
       "    </tr>\n",
       "    <tr>\n",
       "      <td>3</td>\n",
       "      <td>2020-08-11</td>\n",
       "      <td>1.103684</td>\n",
       "    </tr>\n",
       "    <tr>\n",
       "      <td>4</td>\n",
       "      <td>2020-08-12</td>\n",
       "      <td>1.873898</td>\n",
       "    </tr>\n",
       "    <tr>\n",
       "      <td>...</td>\n",
       "      <td>...</td>\n",
       "      <td>...</td>\n",
       "    </tr>\n",
       "    <tr>\n",
       "      <td>494</td>\n",
       "      <td>2021-12-15</td>\n",
       "      <td>34.638805</td>\n",
       "    </tr>\n",
       "    <tr>\n",
       "      <td>495</td>\n",
       "      <td>2021-12-16</td>\n",
       "      <td>34.430855</td>\n",
       "    </tr>\n",
       "    <tr>\n",
       "      <td>496</td>\n",
       "      <td>2021-12-17</td>\n",
       "      <td>34.067024</td>\n",
       "    </tr>\n",
       "    <tr>\n",
       "      <td>497</td>\n",
       "      <td>2021-12-18</td>\n",
       "      <td>31.976015</td>\n",
       "    </tr>\n",
       "    <tr>\n",
       "      <td>498</td>\n",
       "      <td>2021-12-19</td>\n",
       "      <td>31.035897</td>\n",
       "    </tr>\n",
       "  </tbody>\n",
       "</table>\n",
       "<p>499 rows × 2 columns</p>\n",
       "</div>"
      ],
      "text/plain": [
       "     2020-08-07  0.18736949720812413\n",
       "0    2020-08-08             0.313158\n",
       "1    2020-08-09             0.795062\n",
       "2    2020-08-10             0.984792\n",
       "3    2020-08-11             1.103684\n",
       "4    2020-08-12             1.873898\n",
       "..          ...                  ...\n",
       "494  2021-12-15            34.638805\n",
       "495  2021-12-16            34.430855\n",
       "496  2021-12-17            34.067024\n",
       "497  2021-12-18            31.976015\n",
       "498  2021-12-19            31.035897\n",
       "\n",
       "[499 rows x 2 columns]"
      ]
     },
     "execution_count": 185,
     "metadata": {},
     "output_type": "execute_result"
    }
   ],
   "source": [
    "pd.read_csv('ts.csv')"
   ]
  }
 ],
 "metadata": {
  "kernelspec": {
   "display_name": "Python 3",
   "language": "python",
   "name": "python3"
  },
  "language_info": {
   "codemirror_mode": {
    "name": "ipython",
    "version": 3
   },
   "file_extension": ".py",
   "mimetype": "text/x-python",
   "name": "python",
   "nbconvert_exporter": "python",
   "pygments_lexer": "ipython3",
   "version": "3.7.4"
  }
 },
 "nbformat": 4,
 "nbformat_minor": 2
}
