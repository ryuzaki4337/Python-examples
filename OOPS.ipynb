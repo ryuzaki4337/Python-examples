{
 "cells": [
  {
   "cell_type": "markdown",
   "metadata": {},
   "source": [
    "# Classes and objects "
   ]
  },
  {
   "cell_type": "code",
   "execution_count": 3,
   "metadata": {},
   "outputs": [
    {
     "name": "stdout",
     "output_type": "stream",
     "text": [
      "2016\n"
     ]
    }
   ],
   "source": [
    "class Car():\n",
    "    pass\n",
    "\n",
    "Honda = Car()  #Creating objects\n",
    "Tata = Car()\n",
    "\n",
    "Honda.modelname = 'City' #Creating instances for the objects created\n",
    "Honda.yearOfManu = 2017\n",
    "Honda.price = 100000\n",
    "\n",
    "Tata.modelname = 'Bolt'\n",
    "Tata.yearOfManu = 2016\n",
    "Tata.price = 60000\n",
    "\n",
    "print (Tata.yearOfManu)"
   ]
  },
  {
   "cell_type": "code",
   "execution_count": 6,
   "metadata": {},
   "outputs": [
    {
     "name": "stdout",
     "output_type": "stream",
     "text": [
      "2016\n"
     ]
    }
   ],
   "source": [
    "class Car():\n",
    "    def __init__(self,modelname,yearm,price):     #Creating a constructor\n",
    "        self.modelname = modelname\n",
    "        self.yearm = yearm\n",
    "        self.price = price\n",
    "\n",
    "Honda = Car('City',2017,100)  #Creating objects and passing the values so that the object is created\n",
    "Tata = Car('Bolt',2016,50)\n",
    "\n",
    "\n",
    "print (Tata.yearm)"
   ]
  },
  {
   "cell_type": "code",
   "execution_count": 10,
   "metadata": {},
   "outputs": [
    {
     "name": "stdout",
     "output_type": "stream",
     "text": [
      "{'modelname': 'City', 'yearm': 2017, 'price': 100, 'cc': 1500}\n"
     ]
    }
   ],
   "source": [
    "class Car():\n",
    "    def __init__(self,modelname,yearm,price):     #Creating a constructor\n",
    "        self.modelname = modelname\n",
    "        self.yearm = yearm\n",
    "        self.price = price\n",
    "\n",
    "Honda = Car('City',2017,100)  #Creating objects and passing the values so that the object is created\n",
    "Tata = Car('Bolt',2016,50)\n",
    "\n",
    "Honda.cc = 1500 #Defining a instance\n",
    "\n",
    "print (Honda.__dict__) #Prints all the stuff related to Honda in the form a dictionary"
   ]
  },
  {
   "cell_type": "code",
   "execution_count": 14,
   "metadata": {},
   "outputs": [
    {
     "name": "stdout",
     "output_type": "stream",
     "text": [
      "100\n",
      "150.0\n"
     ]
    }
   ],
   "source": [
    "class Car():\n",
    "    def __init__(self,modelname,yearm,price):     #Creating a constructor\n",
    "        self.modelname = modelname\n",
    "        self.yearm = yearm\n",
    "        self.price = price\n",
    "    \n",
    "    def price_inc(self):     #Creating a function\n",
    "        self.price = self.price*1.5\n",
    "        \n",
    "Honda = Car('City',2017,100)  #Creating objects and passing the values so that the object is created\n",
    "Tata = Car('Bolt',2016,50)\n",
    "\n",
    "print (Honda.price)\n",
    "Honda.price_inc()    #Calling the function using the object\n",
    "print (Honda.price)"
   ]
  },
  {
   "cell_type": "markdown",
   "metadata": {},
   "source": [
    "# Inheritance "
   ]
  },
  {
   "cell_type": "code",
   "execution_count": 6,
   "metadata": {},
   "outputs": [
    {
     "name": "stdout",
     "output_type": "stream",
     "text": [
      "2017\n",
      "Help on SuperCar in module __main__ object:\n",
      "\n",
      "class SuperCar(Car)\n",
      " |  SuperCar(modelname, yearm, price)\n",
      " |  \n",
      " |  Method resolution order:\n",
      " |      SuperCar\n",
      " |      Car\n",
      " |      builtins.object\n",
      " |  \n",
      " |  Methods inherited from Car:\n",
      " |  \n",
      " |  __init__(self, modelname, yearm, price)\n",
      " |      Initialize self.  See help(type(self)) for accurate signature.\n",
      " |  \n",
      " |  price_inc(self)\n",
      " |  \n",
      " |  ----------------------------------------------------------------------\n",
      " |  Data descriptors inherited from Car:\n",
      " |  \n",
      " |  __dict__\n",
      " |      dictionary for instance variables (if defined)\n",
      " |  \n",
      " |  __weakref__\n",
      " |      list of weak references to the object (if defined)\n",
      "\n",
      "None\n",
      "150.0\n"
     ]
    }
   ],
   "source": [
    "class Car(): #Parent class\n",
    "    def __init__(self,modelname,yearm,price):     #Creating a constructor\n",
    "        self.modelname = modelname\n",
    "        self.yearm = yearm\n",
    "        self.price = price\n",
    "        \n",
    "    def price_inc(self):     #Creating a function\n",
    "        self.price = self.price*1.5\n",
    "        \n",
    "class SuperCar(Car): #Inherited class\n",
    "    pass\n",
    "\n",
    "Honda = SuperCar('City',2017,100)\n",
    "Tata = SuperCar('Bolt',2016,50)\n",
    "\n",
    "Honda.cc = 1500\n",
    "\n",
    "print (Honda.yearm) #Printing the required instance using the inherited class\n",
    "\n",
    "print (help(Honda))  #Prints the order in which the program is being executed\n",
    "\n",
    "Honda.price_inc()\n",
    "print (Honda.price)"
   ]
  },
  {
   "cell_type": "code",
   "execution_count": 10,
   "metadata": {},
   "outputs": [
    {
     "name": "stdout",
     "output_type": "stream",
     "text": [
      "2017\n",
      "Help on SuperCar in module __main__ object:\n",
      "\n",
      "class SuperCar(Car)\n",
      " |  SuperCar(modelname, yearm, price)\n",
      " |  \n",
      " |  Method resolution order:\n",
      " |      SuperCar\n",
      " |      Car\n",
      " |      builtins.object\n",
      " |  \n",
      " |  Methods inherited from Car:\n",
      " |  \n",
      " |  __init__(self, modelname, yearm, price)\n",
      " |      Initialize self.  See help(type(self)) for accurate signature.\n",
      " |  \n",
      " |  price_inc(self)\n",
      " |  \n",
      " |  ----------------------------------------------------------------------\n",
      " |  Data descriptors inherited from Car:\n",
      " |  \n",
      " |  __dict__\n",
      " |      dictionary for instance variables (if defined)\n",
      " |  \n",
      " |  __weakref__\n",
      " |      list of weak references to the object (if defined)\n",
      "\n",
      "None\n",
      "150.0\n"
     ]
    }
   ],
   "source": [
    "class Car(): #Parent class\n",
    "    def __init__(self,modelname,yearm,price):     #Creating a constructor\n",
    "        self.modelname = modelname\n",
    "        self.yearm = yearm\n",
    "        self.price = price\n",
    "        \n",
    "    def price_inc(self):     #Creating a function\n",
    "        self.price = self.price*1.5\n",
    "        \n",
    "class SuperCar(Car): #Inherited class\n",
    "    def __init(self,modelname,yearm,price):\n",
    "        super.__init__(modelname,yearm,price)\n",
    "\n",
    "Honda = SuperCar('City',2017,100)\n",
    "Tata = SuperCar('Bolt',2016,50)\n",
    "\n",
    "Honda.cc = 1500\n",
    "\n",
    "print (Honda.yearm) #Printing the required instance using the inherited class\n",
    "\n",
    "print (help(Honda))  #Prints the order in which the program is being executed\n",
    "\n",
    "Honda.price_inc()\n",
    "print (Honda.price)"
   ]
  },
  {
   "cell_type": "code",
   "execution_count": null,
   "metadata": {},
   "outputs": [],
   "source": []
  },
  {
   "cell_type": "markdown",
   "metadata": {},
   "source": [
    "# Encapsulation "
   ]
  },
  {
   "cell_type": "code",
   "execution_count": 9,
   "metadata": {},
   "outputs": [],
   "source": [
    "#Encapsulation means binding the data and code together as a single unit\n",
    "#Securing data by hiding the implementation details to user"
   ]
  },
  {
   "cell_type": "markdown",
   "metadata": {},
   "source": [
    "# Abstraction "
   ]
  },
  {
   "cell_type": "code",
   "execution_count": null,
   "metadata": {},
   "outputs": [],
   "source": [
    "#Hides the implementation details and only provides the fucntionality to the user\n",
    "#You can achieve abstraction using Abstract classes and Interfaces\n",
    "\n",
    "#Abstract classes cannot be instantiated.It can only be inherited."
   ]
  }
 ],
 "metadata": {
  "kernelspec": {
   "display_name": "Python 3",
   "language": "python",
   "name": "python3"
  },
  "language_info": {
   "codemirror_mode": {
    "name": "ipython",
    "version": 3
   },
   "file_extension": ".py",
   "mimetype": "text/x-python",
   "name": "python",
   "nbconvert_exporter": "python",
   "pygments_lexer": "ipython3",
   "version": "3.7.3"
  }
 },
 "nbformat": 4,
 "nbformat_minor": 2
}
