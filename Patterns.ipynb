{
 "cells": [
  {
   "cell_type": "code",
   "execution_count": 1,
   "metadata": {},
   "outputs": [
    {
     "name": "stdout",
     "output_type": "stream",
     "text": [
      "        * \r\n",
      "       * * \r\n",
      "      * * * \r\n",
      "     * * * * \r\n",
      "    * * * * * \r\n"
     ]
    }
   ],
   "source": [
    "#Pyramid Pattern\n",
    "def pattern(n):\n",
    "    k = 2*n - 2\n",
    "    for i in range(0,n):\n",
    "        for j in range(0,k):\n",
    "            print(end = \" \")\n",
    "        k = k-1\n",
    "        for j in range(0,i+1):\n",
    "            print(\"* \",end = \"\")\n",
    "        print(\"\\r\")\n",
    "\n",
    "pattern(5)"
   ]
  },
  {
   "cell_type": "code",
   "execution_count": 2,
   "metadata": {},
   "outputs": [
    {
     "name": "stdout",
     "output_type": "stream",
     "text": [
      "        * * * * * * \r\n",
      "         * * * * * \r\n",
      "          * * * * \r\n",
      "           * * * \r\n",
      "            * * \r\n",
      "             * \r\n"
     ]
    }
   ],
   "source": [
    "#Inverse Pyramid\n",
    "\n",
    "def pattern(n):\n",
    "    k = 2*n-2\n",
    "    for i in range(n,-1,-1):\n",
    "        for j in range(k,0,-1):\n",
    "            print(end = \" \")\n",
    "        k = k+1\n",
    "        for j in range(0,i+1):\n",
    "            print(\"* \",end=\"\")\n",
    "        print(\"\\r\")\n",
    "        \n",
    "pattern(5)"
   ]
  },
  {
   "cell_type": "code",
   "execution_count": 10,
   "metadata": {},
   "outputs": [
    {
     "name": "stdout",
     "output_type": "stream",
     "text": [
      "* \r\n",
      "* * \r\n",
      "* * * \r\n",
      "* * * * \r\n",
      "* * * * * \r\n"
     ]
    }
   ],
   "source": [
    "#Half pyramid(right angled triangle)\n",
    "\n",
    "\n",
    "def pattern(n):\n",
    "    for i in range(0,n):\n",
    "        for j in range(0,i+1):\n",
    "            print(\"* \",end=\"\")\n",
    "        print(\"\\r\")\n",
    "\n",
    "pattern(5)"
   ]
  },
  {
   "cell_type": "code",
   "execution_count": 18,
   "metadata": {},
   "outputs": [
    {
     "name": "stdout",
     "output_type": "stream",
     "text": [
      "1 \r\n",
      "2 2 \r\n",
      "3 3 3 \r\n",
      "4 4 4 4 \r\n",
      "5 5 5 5 5 \r\n"
     ]
    }
   ],
   "source": [
    "#Number patterns\n",
    "\n",
    "def pattern(n):\n",
    "    x = 0\n",
    "    for i in range(0,n):\n",
    "        x+=1\n",
    "        for j in range(0,i+1):\n",
    "            print(x,\"\",end=\"\")\n",
    "        print(\"\\r\")\n",
    "\n",
    "pattern(5)"
   ]
  },
  {
   "cell_type": "code",
   "execution_count": 25,
   "metadata": {},
   "outputs": [
    {
     "name": "stdout",
     "output_type": "stream",
     "text": [
      "A \r\n",
      "B B \r\n",
      "C C C \r\n",
      "D D D D \r\n",
      "E E E E E \r\n",
      "F F F F F F \r\n",
      "G G G G G G G \r\n"
     ]
    }
   ],
   "source": [
    "#Character patterns\n",
    "def pattern(n):\n",
    "    x = 65\n",
    "    for i in range(0,n):\n",
    "        ch = chr(x)\n",
    "        x += 1\n",
    "        for j in range(0,i+1):\n",
    "            print(ch,\"\",end=\"\")\n",
    "        print(\"\\r\")\n",
    "\n",
    "pattern(7)"
   ]
  }
 ],
 "metadata": {
  "kernelspec": {
   "display_name": "Python 3",
   "language": "python",
   "name": "python3"
  },
  "language_info": {
   "codemirror_mode": {
    "name": "ipython",
    "version": 3
   },
   "file_extension": ".py",
   "mimetype": "text/x-python",
   "name": "python",
   "nbconvert_exporter": "python",
   "pygments_lexer": "ipython3",
   "version": "3.7.3"
  }
 },
 "nbformat": 4,
 "nbformat_minor": 2
}
