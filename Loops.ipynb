{
 "cells": [
  {
   "cell_type": "code",
   "execution_count": 3,
   "metadata": {},
   "outputs": [
    {
     "name": "stdout",
     "output_type": "stream",
     "text": [
      "0\n",
      "1\n",
      "2\n",
      "3\n",
      "4\n",
      "5\n",
      "6\n",
      "7\n",
      "8\n"
     ]
    }
   ],
   "source": [
    "#While loop\n",
    "tmp = 0\n",
    "while (tmp < 9) :\n",
    "    print (tmp)\n",
    "    tmp += 1"
   ]
  },
  {
   "cell_type": "code",
   "execution_count": 5,
   "metadata": {},
   "outputs": [
    {
     "name": "stdout",
     "output_type": "stream",
     "text": [
      "New number : 2\n",
      "Number is too small\n",
      "New number : 5\n",
      "Number is too small\n",
      "New number : 8\n",
      "Number is larger than the number generated\n",
      "New number : 6\n",
      "Number is too small\n",
      "New number : 7\n",
      "Congrats\n"
     ]
    }
   ],
   "source": [
    "#A little guessing number using while loop\n",
    "import random\n",
    "n = 20\n",
    "to_be_guessed = int(n*random.random())+1 #Used to generate a random number\n",
    "guess = 0\n",
    "while guess != to_be_guessed:\n",
    "    guess = int(input(\"New number : \"))  # Input is taken in this way in python\n",
    "    if guess > 0:\n",
    "        if(guess > to_be_guessed):\n",
    "            print(\"Number is larger than the number generated\")\n",
    "        elif(guess < to_be_guessed):\n",
    "            print(\"Number is too small\")\n",
    "    else :\n",
    "        print(\"Sorry\")\n",
    "        break\n",
    "else:\n",
    "    print(\"Congrats\")"
   ]
  },
  {
   "cell_type": "code",
   "execution_count": 7,
   "metadata": {},
   "outputs": [
    {
     "name": "stdout",
     "output_type": "stream",
     "text": [
      "Lalith\n",
      "Aditya\n",
      "Yash\n"
     ]
    }
   ],
   "source": [
    "#For loop\n",
    "Names = ['Lalith','Aditya','Yash']\n",
    "for x in Names:\n",
    "    print (x)\n"
   ]
  },
  {
   "cell_type": "code",
   "execution_count": 18,
   "metadata": {},
   "outputs": [
    {
     "name": "stdout",
     "output_type": "stream",
     "text": [
      "Number:7\n",
      "5040\n"
     ]
    }
   ],
   "source": [
    "#Factorial using for loop\n",
    "pdt = 1\n",
    "x = int(input(\"Number:\"))\n",
    "for y in list(range(x)):   #Range can be also written as range(l,m) where l is included and m is not included\n",
    "    if y == 0:\n",
    "        pdt *= 1\n",
    "    else :\n",
    "        pdt *= y\n",
    "pdt *= x\n",
    "print(pdt)"
   ]
  },
  {
   "cell_type": "code",
   "execution_count": 25,
   "metadata": {},
   "outputs": [
    {
     "name": "stdout",
     "output_type": "stream",
     "text": [
      "Enter the max number till which the triplets should be found20\n",
      "3 4 5\n",
      "5 12 13\n",
      "6 8 10\n",
      "8 15 17\n",
      "9 12 15\n",
      "12 16 20\n"
     ]
    }
   ],
   "source": [
    "#Pythogorean triplets using nested loops\n",
    "max = int(input(\"Enter the max number till which the triplets should be found\"))\n",
    "for x in range(1,max+1):\n",
    "    for y in range(1,max+1):\n",
    "        for z in range(1,max+1):\n",
    "            a = x ** 2\n",
    "            b = y ** 2\n",
    "            c = z ** 2\n",
    "            if ((a+b == c) and  (a < b)) :\n",
    "                print (x,y,z)"
   ]
  },
  {
   "cell_type": "code",
   "execution_count": null,
   "metadata": {},
   "outputs": [],
   "source": []
  }
 ],
 "metadata": {
  "kernelspec": {
   "display_name": "Python 3",
   "language": "python",
   "name": "python3"
  },
  "language_info": {
   "codemirror_mode": {
    "name": "ipython",
    "version": 3
   },
   "file_extension": ".py",
   "mimetype": "text/x-python",
   "name": "python",
   "nbconvert_exporter": "python",
   "pygments_lexer": "ipython3",
   "version": "3.7.3"
  }
 },
 "nbformat": 4,
 "nbformat_minor": 2
}
